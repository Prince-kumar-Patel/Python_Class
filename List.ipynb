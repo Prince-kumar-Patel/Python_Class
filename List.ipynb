{
 "cells": [
  {
   "cell_type": "markdown",
   "id": "646b7222-dca6-4ca0-a0bc-5061da6057d5",
   "metadata": {},
   "source": [
    "## List"
   ]
  },
  {
   "cell_type": "code",
   "execution_count": 3,
   "id": "fbbce133-69b1-4224-84c2-742e6e2f1cf4",
   "metadata": {},
   "outputs": [
    {
     "name": "stdout",
     "output_type": "stream",
     "text": [
      "2182379754112\n",
      "140712524392856\n",
      "140712524392952\n"
     ]
    }
   ],
   "source": [
    "L = [1,2,3,4,5,6]\n",
    "L\n",
    "#print(L)\n",
    "\n",
    "print(id(L))\n",
    "print(id(0))\n",
    "print(id(3))"
   ]
  },
  {
   "cell_type": "markdown",
   "id": "76147f88-1b0a-46f9-8d90-5536ce497f18",
   "metadata": {},
   "source": [
    "## type of list"
   ]
  },
  {
   "cell_type": "code",
   "execution_count": 14,
   "id": "ee1aac00-8214-4470-896b-8a1bcb5dacac",
   "metadata": {},
   "outputs": [
    {
     "data": {
      "text/plain": [
       "[1, 2, 3, [1.2], [True], ['hello']]"
      ]
     },
     "execution_count": 14,
     "metadata": {},
     "output_type": "execute_result"
    }
   ],
   "source": [
    "# empty list\n",
    "a = []\n",
    "a\n",
    "# 1d list\n",
    "a = [1,2,3,4,5,6]\n",
    "a\n",
    "# 2d List\n",
    "a = [1,2,3,[4,5,6]]\n",
    "a\n",
    "# 3d list\n",
    "a = [1,2,3,4,[5,6],[7,8]]\n",
    "a \n",
    "# hetrogenous\n",
    "a = [1,2,3,[1.2],[True],[\"hello\"]]\n",
    "a"
   ]
  },
  {
   "cell_type": "markdown",
   "id": "f19650bc-42a9-4be8-a98c-733924a940bd",
   "metadata": {},
   "source": [
    "## add items to a list"
   ]
  },
  {
   "cell_type": "code",
   "execution_count": 27,
   "id": "f2662d8f-00e3-4f36-80fb-709dde8df8b4",
   "metadata": {},
   "outputs": [
    {
     "name": "stdout",
     "output_type": "stream",
     "text": [
      "[1, 2, 3, True]\n"
     ]
    }
   ],
   "source": [
    "y = [1,2,3]\n",
    "y\n",
    "y.append(True)\n",
    "print(y)"
   ]
  },
  {
   "cell_type": "code",
   "execution_count": 29,
   "id": "9248ca70-6ff0-44af-b46a-68e521a98c12",
   "metadata": {},
   "outputs": [
    {
     "name": "stdout",
     "output_type": "stream",
     "text": [
      "[1, 2, 3, True, 4, 5, 6]\n"
     ]
    }
   ],
   "source": [
    "y.extend([4,5,6])\n",
    "print(y)"
   ]
  },
  {
   "cell_type": "code",
   "execution_count": 31,
   "id": "d32e17f7-8849-468f-875b-8f2c80c47717",
   "metadata": {},
   "outputs": [
    {
     "name": "stdout",
     "output_type": "stream",
     "text": [
      "[1, 100, 2, 3, True, 4, 5, 6]\n"
     ]
    }
   ],
   "source": [
    "y.insert(1,100)\n",
    "print(y)"
   ]
  },
  {
   "cell_type": "code",
   "execution_count": 17,
   "id": "ecce7e27-6cca-45d1-af4e-9e2380d84adb",
   "metadata": {},
   "outputs": [
    {
     "data": {
      "text/plain": [
       "[4, 5]"
      ]
     },
     "execution_count": 17,
     "metadata": {},
     "output_type": "execute_result"
    }
   ],
   "source": [
    "a = [1,2,3,[4,5,6]]\n",
    "a  [3][0:2]"
   ]
  },
  {
   "cell_type": "markdown",
   "id": "864dc986-7d90-48bb-ade8-d1340aa4e79d",
   "metadata": {},
   "source": [
    "## Editing items in a List"
   ]
  },
  {
   "cell_type": "code",
   "execution_count": 45,
   "id": "c97ef897-383e-444e-8a74-793d1f83471c",
   "metadata": {},
   "outputs": [
    {
     "data": {
      "text/plain": [
       "[7, 9]"
      ]
     },
     "execution_count": 45,
     "metadata": {},
     "output_type": "execute_result"
    }
   ],
   "source": [
    "r = [1,5,8,3,7,2,[4,7,9,10],[4,7,9]]\n",
    "r [6][1:3]\n"
   ]
  },
  {
   "cell_type": "code",
   "execution_count": 47,
   "id": "05628d54-019d-4e5c-8456-d86a56e7579f",
   "metadata": {},
   "outputs": [
    {
     "data": {
      "text/plain": [
       "[7, 9]"
      ]
     },
     "execution_count": 47,
     "metadata": {},
     "output_type": "execute_result"
    }
   ],
   "source": [
    "r[7][1:3]"
   ]
  },
  {
   "cell_type": "code",
   "execution_count": 64,
   "id": "b2934e34-c554-4dc7-af41-a3698fff0ed8",
   "metadata": {},
   "outputs": [],
   "source": [
    "L = [1,2,3,4,5]\n",
    "\n",
    "# editing with indexing\n",
    "L[1] = 600\n",
    "\n",
    "\n"
   ]
  },
  {
   "cell_type": "code",
   "execution_count": 66,
   "id": "928e4d7e-a2c0-4b9b-96be-2042e0ca7490",
   "metadata": {},
   "outputs": [
    {
     "data": {
      "text/plain": [
       "[1, 600, 3, 4, 5]"
      ]
     },
     "execution_count": 66,
     "metadata": {},
     "output_type": "execute_result"
    }
   ],
   "source": [
    "L"
   ]
  },
  {
   "cell_type": "code",
   "execution_count": 78,
   "id": "7011bd95-1902-4893-8d1a-f4c22e3fc17f",
   "metadata": {},
   "outputs": [],
   "source": [
    "y = [1,2,3,4,5]\n",
    "y[0:4] = [100,200]"
   ]
  },
  {
   "cell_type": "code",
   "execution_count": 80,
   "id": "d2784849-2950-4611-8bac-be78bdb6174d",
   "metadata": {},
   "outputs": [
    {
     "data": {
      "text/plain": [
       "[100, 200, 5]"
      ]
     },
     "execution_count": 80,
     "metadata": {},
     "output_type": "execute_result"
    }
   ],
   "source": [
    "y"
   ]
  },
  {
   "cell_type": "code",
   "execution_count": null,
   "id": "4a60ce7c-1c5e-4d41-b20f-3885349bdf05",
   "metadata": {},
   "outputs": [],
   "source": []
  }
 ],
 "metadata": {
  "kernelspec": {
   "display_name": "Python [conda env:base] *",
   "language": "python",
   "name": "conda-base-py"
  },
  "language_info": {
   "codemirror_mode": {
    "name": "ipython",
    "version": 3
   },
   "file_extension": ".py",
   "mimetype": "text/x-python",
   "name": "python",
   "nbconvert_exporter": "python",
   "pygments_lexer": "ipython3",
   "version": "3.12.7"
  }
 },
 "nbformat": 4,
 "nbformat_minor": 5
}
