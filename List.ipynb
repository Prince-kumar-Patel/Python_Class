{
 "cells": [
  {
   "cell_type": "markdown",
   "id": "646b7222-dca6-4ca0-a0bc-5061da6057d5",
   "metadata": {},
   "source": [
    "## List"
   ]
  },
  {
   "cell_type": "code",
   "execution_count": 3,
   "id": "fbbce133-69b1-4224-84c2-742e6e2f1cf4",
   "metadata": {},
   "outputs": [
    {
     "name": "stdout",
     "output_type": "stream",
     "text": [
      "2182379754112\n",
      "140712524392856\n",
      "140712524392952\n"
     ]
    }
   ],
   "source": [
    "L = [1,2,3,4,5,6]\n",
    "L\n",
    "#print(L)\n",
    "\n",
    "print(id(L))\n",
    "print(id(0))\n",
    "print(id(3))"
   ]
  },
  {
   "cell_type": "code",
   "execution_count": 53,
   "id": "cb230c52-5a0f-4cb3-a4b3-4f3378d13b99",
   "metadata": {},
   "outputs": [
    {
     "ename": "TypeError",
     "evalue": "'builtin_function_or_method' object is not subscriptable",
     "output_type": "error",
     "traceback": [
      "\u001b[1;31m---------------------------------------------------------------------------\u001b[0m",
      "\u001b[1;31mTypeError\u001b[0m                                 Traceback (most recent call last)",
      "Cell \u001b[1;32mIn[53], line 4\u001b[0m\n\u001b[0;32m      2\u001b[0m (a)\n\u001b[0;32m      3\u001b[0m a\u001b[38;5;241m.\u001b[39mindex(\u001b[38;5;241m1\u001b[39m)\n\u001b[1;32m----> 4\u001b[0m a\u001b[38;5;241m.\u001b[39mindex[\u001b[38;5;241m5\u001b[39m:\u001b[38;5;241m1\u001b[39m]\n",
      "\u001b[1;31mTypeError\u001b[0m: 'builtin_function_or_method' object is not subscriptable"
     ]
    }
   ],
   "source": [
    "a = [1,2,3,4,5,[5,6,9]]\n",
    "(a)\n",
    "a.index(1)\n",
    "a.index[5:1]"
   ]
  },
  {
   "cell_type": "code",
   "execution_count": null,
   "id": "50cd7497-78f7-4fbe-b441-e9695ad1755b",
   "metadata": {},
   "outputs": [],
   "source": []
  }
 ],
 "metadata": {
  "kernelspec": {
   "display_name": "Python [conda env:base] *",
   "language": "python",
   "name": "conda-base-py"
  },
  "language_info": {
   "codemirror_mode": {
    "name": "ipython",
    "version": 3
   },
   "file_extension": ".py",
   "mimetype": "text/x-python",
   "name": "python",
   "nbconvert_exporter": "python",
   "pygments_lexer": "ipython3",
   "version": "3.12.7"
  }
 },
 "nbformat": 4,
 "nbformat_minor": 5
}
