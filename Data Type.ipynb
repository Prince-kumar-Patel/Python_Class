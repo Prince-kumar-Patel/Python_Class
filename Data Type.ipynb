{
 "cells": [
  {
   "cell_type": "code",
   "execution_count": null,
   "id": "cc767f86-5255-43ed-a73b-1dcdf817e5c1",
   "metadata": {},
   "outputs": [],
   "source": [
    "Data Type"
   ]
  },
  {
   "cell_type": "code",
   "execution_count": 2,
   "id": "24abaf32-40df-4fff-ade6-fd275934b58e",
   "metadata": {},
   "outputs": [
    {
     "data": {
      "text/plain": [
       "10"
      ]
     },
     "execution_count": 2,
     "metadata": {},
     "output_type": "execute_result"
    }
   ],
   "source": [
    "int(10)"
   ]
  },
  {
   "cell_type": "code",
   "execution_count": 8,
   "id": "f4261dc5-a608-4897-a9f4-6e8c5ff4ddf4",
   "metadata": {},
   "outputs": [
    {
     "data": {
      "text/plain": [
       "2"
      ]
     },
     "execution_count": 8,
     "metadata": {},
     "output_type": "execute_result"
    }
   ],
   "source": [
    "int(2)"
   ]
  },
  {
   "cell_type": "code",
   "execution_count": 10,
   "id": "72f5c7a4-85f6-4c6a-8a0a-0f432586db5d",
   "metadata": {},
   "outputs": [
    {
     "data": {
      "text/plain": [
       "4"
      ]
     },
     "execution_count": 10,
     "metadata": {},
     "output_type": "execute_result"
    }
   ],
   "source": [
    "int(2+2)"
   ]
  },
  {
   "cell_type": "code",
   "execution_count": 12,
   "id": "96d57255-fa9a-4880-b744-f33ced112cdc",
   "metadata": {},
   "outputs": [
    {
     "data": {
      "text/plain": [
       "64"
      ]
     },
     "execution_count": 12,
     "metadata": {},
     "output_type": "execute_result"
    }
   ],
   "source": [
    "int(2*4*8)"
   ]
  },
  {
   "cell_type": "code",
   "execution_count": 14,
   "id": "d276a8df-840c-48f0-aa94-70c7f260fe7a",
   "metadata": {},
   "outputs": [
    {
     "data": {
      "text/plain": [
       "22"
      ]
     },
     "execution_count": 14,
     "metadata": {},
     "output_type": "execute_result"
    }
   ],
   "source": [
    "int(5+8+9)"
   ]
  },
  {
   "cell_type": "code",
   "execution_count": 16,
   "id": "a66b7789-093d-4cb5-9a59-70ca40468dd1",
   "metadata": {},
   "outputs": [
    {
     "data": {
      "text/plain": [
       "4"
      ]
     },
     "execution_count": 16,
     "metadata": {},
     "output_type": "execute_result"
    }
   ],
   "source": [
    "int(8/2)"
   ]
  },
  {
   "cell_type": "code",
   "execution_count": 18,
   "id": "bc7458cf-6f2e-4c23-8afa-045f502da138",
   "metadata": {},
   "outputs": [
    {
     "data": {
      "text/plain": [
       "int"
      ]
     },
     "execution_count": 18,
     "metadata": {},
     "output_type": "execute_result"
    }
   ],
   "source": [
    "type(8)"
   ]
  },
  {
   "cell_type": "code",
   "execution_count": 20,
   "id": "c9a098e2-312b-418d-8840-b819ec7af448",
   "metadata": {},
   "outputs": [
    {
     "data": {
      "text/plain": [
       "float"
      ]
     },
     "execution_count": 20,
     "metadata": {},
     "output_type": "execute_result"
    }
   ],
   "source": [
    "type(8.2)"
   ]
  },
  {
   "cell_type": "code",
   "execution_count": 22,
   "id": "1e2db76d-15a7-4e17-bb84-dfd8f5e78733",
   "metadata": {},
   "outputs": [
    {
     "data": {
      "text/plain": [
       "1.2"
      ]
     },
     "execution_count": 22,
     "metadata": {},
     "output_type": "execute_result"
    }
   ],
   "source": [
    "float(1.2)"
   ]
  },
  {
   "cell_type": "code",
   "execution_count": 24,
   "id": "b2ae9871-d61e-499c-a7d8-c437bb154f13",
   "metadata": {},
   "outputs": [
    {
     "data": {
      "text/plain": [
       "1.3"
      ]
     },
     "execution_count": 24,
     "metadata": {},
     "output_type": "execute_result"
    }
   ],
   "source": [
    "float(1.2)\n",
    "float(1.3)"
   ]
  },
  {
   "cell_type": "code",
   "execution_count": 26,
   "id": "45e221c2-6110-4049-accc-dccf03980a02",
   "metadata": {},
   "outputs": [
    {
     "data": {
      "text/plain": [
       "2.5"
      ]
     },
     "execution_count": 26,
     "metadata": {},
     "output_type": "execute_result"
    }
   ],
   "source": [
    "float(1.2+1.3)"
   ]
  },
  {
   "cell_type": "code",
   "execution_count": 28,
   "id": "a59f2c41-5dac-41bd-8cb3-73198732874e",
   "metadata": {},
   "outputs": [
    {
     "data": {
      "text/plain": [
       "complex"
      ]
     },
     "execution_count": 28,
     "metadata": {},
     "output_type": "execute_result"
    }
   ],
   "source": [
    "type(2+0j)"
   ]
  },
  {
   "cell_type": "code",
   "execution_count": 30,
   "id": "23f9e606-4a86-4107-8e80-8de05215e775",
   "metadata": {},
   "outputs": [
    {
     "data": {
      "text/plain": [
       "(10+0j)"
      ]
     },
     "execution_count": 30,
     "metadata": {},
     "output_type": "execute_result"
    }
   ],
   "source": [
    "complex(10)"
   ]
  },
  {
   "cell_type": "code",
   "execution_count": 32,
   "id": "1145a1a3-5d7f-4d9f-a086-41920ed6789f",
   "metadata": {},
   "outputs": [
    {
     "data": {
      "text/plain": [
       "str"
      ]
     },
     "execution_count": 32,
     "metadata": {},
     "output_type": "execute_result"
    }
   ],
   "source": [
    "type('prince')"
   ]
  },
  {
   "cell_type": "code",
   "execution_count": 34,
   "id": "507fef5d-b731-4c5e-a44c-9f22547f309b",
   "metadata": {},
   "outputs": [
    {
     "data": {
      "text/plain": [
       "'helo,1,2,3'"
      ]
     },
     "execution_count": 34,
     "metadata": {},
     "output_type": "execute_result"
    }
   ],
   "source": [
    "str('helo,1,2,3')"
   ]
  },
  {
   "cell_type": "code",
   "execution_count": 36,
   "id": "1f92bff3-127f-4a28-9e27-0a9b6aa367a5",
   "metadata": {},
   "outputs": [
    {
     "data": {
      "text/plain": [
       "'prince'"
      ]
     },
     "execution_count": 36,
     "metadata": {},
     "output_type": "execute_result"
    }
   ],
   "source": [
    "str('helo')\n",
    "str('prince')"
   ]
  },
  {
   "cell_type": "code",
   "execution_count": 42,
   "id": "b7fb0cfc-76ca-40be-b9dc-6b681a511d2d",
   "metadata": {},
   "outputs": [
    {
     "data": {
      "text/plain": [
       "True"
      ]
     },
     "execution_count": 42,
     "metadata": {},
     "output_type": "execute_result"
    }
   ],
   "source": [
    "bool(1)"
   ]
  },
  {
   "cell_type": "code",
   "execution_count": 44,
   "id": "90cdd688-67ec-46a6-9d6b-a947e9c53d0b",
   "metadata": {},
   "outputs": [
    {
     "data": {
      "text/plain": [
       "False"
      ]
     },
     "execution_count": 44,
     "metadata": {},
     "output_type": "execute_result"
    }
   ],
   "source": [
    "bool(0)"
   ]
  },
  {
   "cell_type": "code",
   "execution_count": 46,
   "id": "acf9131e-b588-4235-87db-26a9fb5f180b",
   "metadata": {},
   "outputs": [
    {
     "data": {
      "text/plain": [
       "True"
      ]
     },
     "execution_count": 46,
     "metadata": {},
     "output_type": "execute_result"
    }
   ],
   "source": [
    "bool(2)"
   ]
  },
  {
   "cell_type": "code",
   "execution_count": 48,
   "id": "c60e04ac-31b6-4370-97d8-9db331ff7ec5",
   "metadata": {},
   "outputs": [
    {
     "data": {
      "text/plain": [
       "False"
      ]
     },
     "execution_count": 48,
     "metadata": {},
     "output_type": "execute_result"
    }
   ],
   "source": [
    "bool(1>2)"
   ]
  },
  {
   "cell_type": "code",
   "execution_count": 50,
   "id": "2a0ce31b-5f9d-4fb4-b345-3b7829e10214",
   "metadata": {},
   "outputs": [
    {
     "data": {
      "text/plain": [
       "True"
      ]
     },
     "execution_count": 50,
     "metadata": {},
     "output_type": "execute_result"
    }
   ],
   "source": [
    "bool(1<2)\n"
   ]
  },
  {
   "cell_type": "code",
   "execution_count": 52,
   "id": "ded0dddd-237b-4557-a0cc-3c7054169146",
   "metadata": {},
   "outputs": [
    {
     "data": {
      "text/plain": [
       "True"
      ]
     },
     "execution_count": 52,
     "metadata": {},
     "output_type": "execute_result"
    }
   ],
   "source": [
    "bool(1+2<2+2)"
   ]
  },
  {
   "cell_type": "code",
   "execution_count": 54,
   "id": "7c724429-680f-4129-a78b-71a5ae1def08",
   "metadata": {},
   "outputs": [
    {
     "data": {
      "text/plain": [
       "bool"
      ]
     },
     "execution_count": 54,
     "metadata": {},
     "output_type": "execute_result"
    }
   ],
   "source": [
    "type(1+2<2+2)"
   ]
  },
  {
   "cell_type": "code",
   "execution_count": 58,
   "id": "44c640fc-13e8-4aab-8b8e-4a1f6988232f",
   "metadata": {},
   "outputs": [
    {
     "data": {
      "text/plain": [
       "False"
      ]
     },
     "execution_count": 58,
     "metadata": {},
     "output_type": "execute_result"
    }
   ],
   "source": [
    "bool(2-1>2+1)"
   ]
  },
  {
   "cell_type": "code",
   "execution_count": 60,
   "id": "a73a0e0e-993e-4826-abf1-5521d33aeb1d",
   "metadata": {},
   "outputs": [
    {
     "name": "stdout",
     "output_type": "stream",
     "text": [
      "[1, 2, 13]\n"
     ]
    }
   ],
   "source": [
    "print([1,2,13])"
   ]
  },
  {
   "cell_type": "code",
   "execution_count": 62,
   "id": "43b9a98e-c411-48fe-8de0-a15e316dc46b",
   "metadata": {},
   "outputs": [
    {
     "data": {
      "text/plain": [
       "list"
      ]
     },
     "execution_count": 62,
     "metadata": {},
     "output_type": "execute_result"
    }
   ],
   "source": [
    "type([1, 2, 13])"
   ]
  },
  {
   "cell_type": "code",
   "execution_count": 64,
   "id": "ab16028a-0603-46ee-b579-2bb8b7c0e7ef",
   "metadata": {},
   "outputs": [
    {
     "name": "stdout",
     "output_type": "stream",
     "text": [
      "[1, 2, 3]\n"
     ]
    }
   ],
   "source": [
    "print([1,2,3])"
   ]
  },
  {
   "cell_type": "code",
   "execution_count": 66,
   "id": "30f0a755-8deb-43cb-ada0-b1b721b56ca0",
   "metadata": {},
   "outputs": [
    {
     "data": {
      "text/plain": [
       "list"
      ]
     },
     "execution_count": 66,
     "metadata": {},
     "output_type": "execute_result"
    }
   ],
   "source": [
    "type([1, 2, 3])"
   ]
  },
  {
   "cell_type": "code",
   "execution_count": 68,
   "id": "894b2b4d-5313-493e-a51d-6e74b40d3014",
   "metadata": {},
   "outputs": [
    {
     "name": "stdout",
     "output_type": "stream",
     "text": [
      "(3, 5, 38)\n"
     ]
    }
   ],
   "source": [
    "print((3,5,38))"
   ]
  },
  {
   "cell_type": "code",
   "execution_count": 70,
   "id": "b56f3584-a496-4670-939b-f46241dc151f",
   "metadata": {},
   "outputs": [
    {
     "name": "stdout",
     "output_type": "stream",
     "text": [
      "25\n"
     ]
    }
   ],
   "source": [
    "print((3+5+8+9))"
   ]
  },
  {
   "cell_type": "code",
   "execution_count": 72,
   "id": "24e62d52-bd3a-4f7a-9739-4d2fcf5b699f",
   "metadata": {},
   "outputs": [
    {
     "name": "stdout",
     "output_type": "stream",
     "text": [
      "{8, 1, 5, 6}\n"
     ]
    }
   ],
   "source": [
    "print({1,5,5,6,8,})"
   ]
  },
  {
   "cell_type": "code",
   "execution_count": 74,
   "id": "a18aa6f1-8567-459c-a42c-2b98cf6d33fa",
   "metadata": {},
   "outputs": [
    {
     "data": {
      "text/plain": [
       "set"
      ]
     },
     "execution_count": 74,
     "metadata": {},
     "output_type": "execute_result"
    }
   ],
   "source": [
    "type({8, 1, 5, 6})"
   ]
  },
  {
   "cell_type": "code",
   "execution_count": 76,
   "id": "c02d6c78-3754-4a78-bbd4-4b01103e137a",
   "metadata": {},
   "outputs": [
    {
     "name": "stdout",
     "output_type": "stream",
     "text": [
      "{'Name': 'Prince', 'Age': 29, 'Gender': 'Male'}\n"
     ]
    }
   ],
   "source": [
    "print({\"Name\": \"Prince\", \"Age\" : 29, \"Gender\": \"Male\"})"
   ]
  },
  {
   "cell_type": "code",
   "execution_count": 78,
   "id": "0ad84004-a639-4965-bac7-c7d9fd457595",
   "metadata": {},
   "outputs": [
    {
     "name": "stdout",
     "output_type": "stream",
     "text": [
      "{'Name': 'Prince'}\n",
      "{'Age': 2}\n",
      "{'Gender': 'Male'}\n"
     ]
    }
   ],
   "source": [
    "print({\"Name\": \"Prince\"})\n",
    "print({\"Age\": 2})\n",
    "print({\"Gender\": \"Male\"})"
   ]
  },
  {
   "cell_type": "code",
   "execution_count": 82,
   "id": "7294e8fe-d650-4274-9882-1948ceec3b24",
   "metadata": {},
   "outputs": [
    {
     "data": {
      "text/plain": [
       "dict"
      ]
     },
     "execution_count": 82,
     "metadata": {},
     "output_type": "execute_result"
    }
   ],
   "source": [
    "type({'Name': 'Prince', 'Age': 29, 'Gender': 'Male'})"
   ]
  },
  {
   "cell_type": "code",
   "execution_count": null,
   "id": "cd7ee0cd-c1a2-44d4-9427-404783fa1ecb",
   "metadata": {},
   "outputs": [],
   "source": []
  }
 ],
 "metadata": {
  "kernelspec": {
   "display_name": "Python [conda env:base] *",
   "language": "python",
   "name": "conda-base-py"
  },
  "language_info": {
   "codemirror_mode": {
    "name": "ipython",
    "version": 3
   },
   "file_extension": ".py",
   "mimetype": "text/x-python",
   "name": "python",
   "nbconvert_exporter": "python",
   "pygments_lexer": "ipython3",
   "version": "3.12.7"
  }
 },
 "nbformat": 4,
 "nbformat_minor": 5
}
