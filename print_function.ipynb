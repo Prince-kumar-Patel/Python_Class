{
 "cells": [
  {
   "cell_type": "markdown",
   "id": "cd8e8528-29a7-4780-8d95-936684a9730e",
   "metadata": {},
   "source": [
    "Print Function\n"
   ]
  },
  {
   "cell_type": "code",
   "execution_count": 48,
   "id": "83ca8c2f-c699-40e2-bcf1-f7d1571e8f86",
   "metadata": {},
   "outputs": [
    {
     "name": "stdout",
     "output_type": "stream",
     "text": [
      "Helo\n"
     ]
    }
   ],
   "source": [
    "print('Helo')"
   ]
  },
  {
   "cell_type": "code",
   "execution_count": 34,
   "id": "78d96901-de27-4455-8410-8fe9b0a05294",
   "metadata": {},
   "outputs": [
    {
     "name": "stdout",
     "output_type": "stream",
     "text": [
      "helo\n",
      "wold\n"
     ]
    }
   ],
   "source": [
    "print('helo')\n",
    "print('wold')"
   ]
  },
  {
   "cell_type": "code",
   "execution_count": 38,
   "id": "2ad729a4-14d8-4c9b-b15f-827553dbbfe4",
   "metadata": {},
   "outputs": [
    {
     "name": "stdout",
     "output_type": "stream",
     "text": [
      "helowold\n"
     ]
    }
   ],
   "source": [
    "print('helo',end=\"\")\n",
    "print('wold')"
   ]
  },
  {
   "cell_type": "code",
   "execution_count": 62,
   "id": "843fb7dc-8c78-4e82-98da-6c9063af3b80",
   "metadata": {},
   "outputs": [
    {
     "name": "stdout",
     "output_type": "stream",
     "text": [
      "helo wold\n"
     ]
    }
   ],
   "source": [
    "print('helo',end=\" \")\n",
    "print('wold')"
   ]
  },
  {
   "cell_type": "code",
   "execution_count": 42,
   "id": "a4c8ffc0-c472-40e9-bfb0-b49fb8342fe5",
   "metadata": {},
   "outputs": [
    {
     "name": "stdout",
     "output_type": "stream",
     "text": [
      "10,20,30\n"
     ]
    }
   ],
   "source": [
    "print('10,20,30')"
   ]
  },
  {
   "cell_type": "code",
   "execution_count": 58,
   "id": "e7db3f6a-c8ea-4b20-8d49-ba15afccc3eb",
   "metadata": {},
   "outputs": [
    {
     "name": "stdout",
     "output_type": "stream",
     "text": [
      "10+20+30\n"
     ]
    }
   ],
   "source": [
    "print(10,20,30,sep=\"+\")"
   ]
  },
  {
   "cell_type": "code",
   "execution_count": null,
   "id": "01116776-966b-4bf3-acc1-4582dd0323bf",
   "metadata": {},
   "outputs": [],
   "source": []
  }
 ],
 "metadata": {
  "kernelspec": {
   "display_name": "Python [conda env:base] *",
   "language": "python",
   "name": "conda-base-py"
  },
  "language_info": {
   "codemirror_mode": {
    "name": "ipython",
    "version": 3
   },
   "file_extension": ".py",
   "mimetype": "text/x-python",
   "name": "python",
   "nbconvert_exporter": "python",
   "pygments_lexer": "ipython3",
   "version": "3.12.7"
  }
 },
 "nbformat": 4,
 "nbformat_minor": 5
}
