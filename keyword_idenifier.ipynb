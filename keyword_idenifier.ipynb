{
 "cells": [
  {
   "cell_type": "markdown",
   "id": "44c76dca-415a-49ff-be62-cbfe20e9ab8f",
   "metadata": {},
   "source": [
    "keyword and identifier"
   ]
  },
  {
   "cell_type": "code",
   "execution_count": 2,
   "id": "26333ace-8c87-40ed-a5ce-5a82f2240f0c",
   "metadata": {},
   "outputs": [],
   "source": [
    "import keyword"
   ]
  },
  {
   "cell_type": "code",
   "execution_count": 6,
   "id": "4b3ca451-ea61-4269-8f18-e89dcad85c5e",
   "metadata": {},
   "outputs": [
    {
     "data": {
      "text/plain": [
       "['False',\n",
       " 'None',\n",
       " 'True',\n",
       " 'and',\n",
       " 'as',\n",
       " 'assert',\n",
       " 'async',\n",
       " 'await',\n",
       " 'break',\n",
       " 'class',\n",
       " 'continue',\n",
       " 'def',\n",
       " 'del',\n",
       " 'elif',\n",
       " 'else',\n",
       " 'except',\n",
       " 'finally',\n",
       " 'for',\n",
       " 'from',\n",
       " 'global',\n",
       " 'if',\n",
       " 'import',\n",
       " 'in',\n",
       " 'is',\n",
       " 'lambda',\n",
       " 'nonlocal',\n",
       " 'not',\n",
       " 'or',\n",
       " 'pass',\n",
       " 'raise',\n",
       " 'return',\n",
       " 'try',\n",
       " 'while',\n",
       " 'with',\n",
       " 'yield']"
      ]
     },
     "execution_count": 6,
     "metadata": {},
     "output_type": "execute_result"
    }
   ],
   "source": [
    "keyword.kwlist"
   ]
  },
  {
   "cell_type": "markdown",
   "id": "cfd9091e-f386-4e6a-a88a-773f8500fff9",
   "metadata": {},
   "source": [
    "not assign variable from keyword"
   ]
  },
  {
   "cell_type": "code",
   "execution_count": 9,
   "id": "d48bfe1f-13e8-4c67-a090-fa0e3cc485d5",
   "metadata": {},
   "outputs": [
    {
     "data": {
      "text/plain": [
       "35"
      ]
     },
     "execution_count": 9,
     "metadata": {},
     "output_type": "execute_result"
    }
   ],
   "source": [
    "len(keyword.kwlist)"
   ]
  },
  {
   "cell_type": "code",
   "execution_count": 13,
   "id": "964d8c4d-2b9f-4867-b353-60850aba379d",
   "metadata": {},
   "outputs": [
    {
     "ename": "SyntaxError",
     "evalue": "cannot assign to False (2005507881.py, line 1)",
     "output_type": "error",
     "traceback": [
      "\u001b[1;36m  Cell \u001b[1;32mIn[13], line 1\u001b[1;36m\u001b[0m\n\u001b[1;33m    False = 10\u001b[0m\n\u001b[1;37m    ^\u001b[0m\n\u001b[1;31mSyntaxError\u001b[0m\u001b[1;31m:\u001b[0m cannot assign to False\n"
     ]
    }
   ],
   "source": [
    "False = 10"
   ]
  },
  {
   "cell_type": "code",
   "execution_count": 15,
   "id": "6966acc5-4512-49dd-8cd8-b7af2dbfaab2",
   "metadata": {},
   "outputs": [
    {
     "ename": "SyntaxError",
     "evalue": "invalid syntax (856963050.py, line 1)",
     "output_type": "error",
     "traceback": [
      "\u001b[1;36m  Cell \u001b[1;32mIn[15], line 1\u001b[1;36m\u001b[0m\n\u001b[1;33m    pass = 20\u001b[0m\n\u001b[1;37m         ^\u001b[0m\n\u001b[1;31mSyntaxError\u001b[0m\u001b[1;31m:\u001b[0m invalid syntax\n"
     ]
    }
   ],
   "source": [
    "pass = 20"
   ]
  },
  {
   "cell_type": "code",
   "execution_count": 17,
   "id": "61298440-8bd5-4647-8a48-7f18f8b63c1e",
   "metadata": {},
   "outputs": [
    {
     "ename": "SyntaxError",
     "evalue": "invalid syntax (1549114973.py, line 1)",
     "output_type": "error",
     "traceback": [
      "\u001b[1;36m  Cell \u001b[1;32mIn[17], line 1\u001b[1;36m\u001b[0m\n\u001b[1;33m    for = 10\u001b[0m\n\u001b[1;37m        ^\u001b[0m\n\u001b[1;31mSyntaxError\u001b[0m\u001b[1;31m:\u001b[0m invalid syntax\n"
     ]
    }
   ],
   "source": [
    "for = 10"
   ]
  },
  {
   "cell_type": "markdown",
   "id": "2a56b185-0f86-4b5f-b601-309c5db112f2",
   "metadata": {},
   "source": [
    "identifier"
   ]
  },
  {
   "cell_type": "code",
   "execution_count": 22,
   "id": "2edcc9f8-cb64-40ea-80bc-dc8efe09556b",
   "metadata": {},
   "outputs": [
    {
     "ename": "SyntaxError",
     "evalue": "invalid syntax (1407219883.py, line 1)",
     "output_type": "error",
     "traceback": [
      "\u001b[1;36m  Cell \u001b[1;32mIn[22], line 1\u001b[1;36m\u001b[0m\n\u001b[1;33m    @ = 10\u001b[0m\n\u001b[1;37m      ^\u001b[0m\n\u001b[1;31mSyntaxError\u001b[0m\u001b[1;31m:\u001b[0m invalid syntax\n"
     ]
    }
   ],
   "source": [
    "@ = 10"
   ]
  },
  {
   "cell_type": "code",
   "execution_count": 24,
   "id": "3f58d95f-1b18-4284-8521-52258d1311ee",
   "metadata": {},
   "outputs": [
    {
     "ename": "SyntaxError",
     "evalue": "invalid syntax (4240660296.py, line 1)",
     "output_type": "error",
     "traceback": [
      "\u001b[1;36m  Cell \u001b[1;32mIn[24], line 1\u001b[1;36m\u001b[0m\n\u001b[1;33m    - = 10\u001b[0m\n\u001b[1;37m      ^\u001b[0m\n\u001b[1;31mSyntaxError\u001b[0m\u001b[1;31m:\u001b[0m invalid syntax\n"
     ]
    }
   ],
   "source": [
    "- = 10"
   ]
  },
  {
   "cell_type": "code",
   "execution_count": 26,
   "id": "fad25e88-a84c-43d7-802a-ce7aeee81f05",
   "metadata": {},
   "outputs": [
    {
     "ename": "SyntaxError",
     "evalue": "cannot assign to literal here. Maybe you meant '==' instead of '='? (2881337615.py, line 1)",
     "output_type": "error",
     "traceback": [
      "\u001b[1;36m  Cell \u001b[1;32mIn[26], line 1\u001b[1;36m\u001b[0m\n\u001b[1;33m    1 = 10\u001b[0m\n\u001b[1;37m    ^\u001b[0m\n\u001b[1;31mSyntaxError\u001b[0m\u001b[1;31m:\u001b[0m cannot assign to literal here. Maybe you meant '==' instead of '='?\n"
     ]
    }
   ],
   "source": [
    "1 = 10"
   ]
  },
  {
   "cell_type": "markdown",
   "id": "6532404c-0816-4983-89b8-a3c2db8a7e5b",
   "metadata": {},
   "source": [
    "now declare the variable"
   ]
  },
  {
   "cell_type": "code",
   "execution_count": 29,
   "id": "dbf925d9-660b-4bf3-9df1-26a4b7985895",
   "metadata": {},
   "outputs": [],
   "source": [
    "#variable python dyanimic\n",
    "#other language static\n",
    "a = 10"
   ]
  },
  {
   "cell_type": "code",
   "execution_count": 31,
   "id": "ee850c7c-67d5-4c46-8603-4f6330e1ff59",
   "metadata": {},
   "outputs": [
    {
     "data": {
      "text/plain": [
       "10"
      ]
     },
     "execution_count": 31,
     "metadata": {},
     "output_type": "execute_result"
    }
   ],
   "source": [
    "a"
   ]
  },
  {
   "cell_type": "code",
   "execution_count": 33,
   "id": "ec546817-3fa9-48d5-8dad-0403a2c6f393",
   "metadata": {},
   "outputs": [],
   "source": [
    "a = 20"
   ]
  },
  {
   "cell_type": "code",
   "execution_count": 35,
   "id": "3ff156e9-8010-4658-b729-5eeb044be97b",
   "metadata": {},
   "outputs": [
    {
     "data": {
      "text/plain": [
       "20"
      ]
     },
     "execution_count": 35,
     "metadata": {},
     "output_type": "execute_result"
    }
   ],
   "source": [
    "a"
   ]
  },
  {
   "cell_type": "code",
   "execution_count": 37,
   "id": "51558c2e-26bf-4870-abaf-d617aaeb265b",
   "metadata": {},
   "outputs": [
    {
     "ename": "SyntaxError",
     "evalue": "invalid syntax (2034741664.py, line 1)",
     "output_type": "error",
     "traceback": [
      "\u001b[1;36m  Cell \u001b[1;32mIn[37], line 1\u001b[1;36m\u001b[0m\n\u001b[1;33m    int a = 10\u001b[0m\n\u001b[1;37m        ^\u001b[0m\n\u001b[1;31mSyntaxError\u001b[0m\u001b[1;31m:\u001b[0m invalid syntax\n"
     ]
    }
   ],
   "source": [
    "int a = 10"
   ]
  },
  {
   "cell_type": "code",
   "execution_count": 39,
   "id": "dd35e1a2-43ee-4d04-afa2-d302851d337f",
   "metadata": {},
   "outputs": [],
   "source": [
    "var = 10"
   ]
  },
  {
   "cell_type": "code",
   "execution_count": 41,
   "id": "5c445591-4386-4f5f-9203-1572af53fe98",
   "metadata": {},
   "outputs": [
    {
     "ename": "SyntaxError",
     "evalue": "invalid decimal literal (4256868957.py, line 1)",
     "output_type": "error",
     "traceback": [
      "\u001b[1;36m  Cell \u001b[1;32mIn[41], line 1\u001b[1;36m\u001b[0m\n\u001b[1;33m    1var = 10\u001b[0m\n\u001b[1;37m    ^\u001b[0m\n\u001b[1;31mSyntaxError\u001b[0m\u001b[1;31m:\u001b[0m invalid decimal literal\n"
     ]
    }
   ],
   "source": [
    "1var = 10#interger age nhi lagana h"
   ]
  },
  {
   "cell_type": "code",
   "execution_count": 43,
   "id": "a8d57adb-f114-4b30-87d9-72e23b1fd72d",
   "metadata": {},
   "outputs": [],
   "source": [
    "var1 = 20#use behind the name"
   ]
  },
  {
   "cell_type": "code",
   "execution_count": 45,
   "id": "98780f7f-21ba-426d-8df2-f618836801cc",
   "metadata": {},
   "outputs": [],
   "source": [
    "var1_2 = 10"
   ]
  },
  {
   "cell_type": "code",
   "execution_count": 47,
   "id": "8016a74f-a1fa-43b9-93fe-0f65495b0ad8",
   "metadata": {},
   "outputs": [
    {
     "ename": "SyntaxError",
     "evalue": "invalid syntax. Maybe you meant '==' or ':=' instead of '='? (1193094149.py, line 1)",
     "output_type": "error",
     "traceback": [
      "\u001b[1;36m  Cell \u001b[1;32mIn[47], line 1\u001b[1;36m\u001b[0m\n\u001b[1;33m    @var = 10\u001b[0m\n\u001b[1;37m     ^\u001b[0m\n\u001b[1;31mSyntaxError\u001b[0m\u001b[1;31m:\u001b[0m invalid syntax. Maybe you meant '==' or ':=' instead of '='?\n"
     ]
    }
   ],
   "source": [
    "@var = 10"
   ]
  },
  {
   "cell_type": "code",
   "execution_count": 49,
   "id": "97e783f7-4090-4ece-8249-45ab39f40596",
   "metadata": {},
   "outputs": [],
   "source": [
    "var_num = 10"
   ]
  },
  {
   "cell_type": "code",
   "execution_count": 51,
   "id": "cd7b3fbe-0cb4-4f11-8067-a1ffe93c555b",
   "metadata": {},
   "outputs": [],
   "source": [
    "a= 10"
   ]
  },
  {
   "cell_type": "code",
   "execution_count": 53,
   "id": "6e554834-2715-4e99-8d43-b115dba6c5a9",
   "metadata": {},
   "outputs": [],
   "source": [
    "fisrt_123 = 10"
   ]
  },
  {
   "cell_type": "code",
   "execution_count": 55,
   "id": "5bd93bfb-f37b-44cf-9df8-438335770c3f",
   "metadata": {},
   "outputs": [
    {
     "ename": "SyntaxError",
     "evalue": "invalid syntax (1549114973.py, line 1)",
     "output_type": "error",
     "traceback": [
      "\u001b[1;36m  Cell \u001b[1;32mIn[55], line 1\u001b[1;36m\u001b[0m\n\u001b[1;33m    for = 10\u001b[0m\n\u001b[1;37m        ^\u001b[0m\n\u001b[1;31mSyntaxError\u001b[0m\u001b[1;31m:\u001b[0m invalid syntax\n"
     ]
    }
   ],
   "source": [
    "for = 10"
   ]
  },
  {
   "cell_type": "code",
   "execution_count": 57,
   "id": "9bd09405-29fa-4a76-800f-2e30e59fe288",
   "metadata": {},
   "outputs": [
    {
     "ename": "SyntaxError",
     "evalue": "cannot assign to expression here. Maybe you meant '==' instead of '='? (3599424913.py, line 1)",
     "output_type": "error",
     "traceback": [
      "\u001b[1;36m  Cell \u001b[1;32mIn[57], line 1\u001b[1;36m\u001b[0m\n\u001b[1;33m    -var = 10\u001b[0m\n\u001b[1;37m    ^\u001b[0m\n\u001b[1;31mSyntaxError\u001b[0m\u001b[1;31m:\u001b[0m cannot assign to expression here. Maybe you meant '==' instead of '='?\n"
     ]
    }
   ],
   "source": [
    "-var = 10"
   ]
  },
  {
   "cell_type": "code",
   "execution_count": 59,
   "id": "8a429d35-456a-48df-acea-1805e39fac35",
   "metadata": {},
   "outputs": [],
   "source": [
    "_= 10"
   ]
  },
  {
   "cell_type": "code",
   "execution_count": 61,
   "id": "b72c86f5-a51f-496b-ac79-a18e0e041ecb",
   "metadata": {},
   "outputs": [
    {
     "name": "stdout",
     "output_type": "stream",
     "text": [
      "10\n"
     ]
    }
   ],
   "source": [
    "print(_)"
   ]
  },
  {
   "cell_type": "code",
   "execution_count": 63,
   "id": "23968f36-5de4-4434-b42e-e8baeec5dc10",
   "metadata": {},
   "outputs": [
    {
     "name": "stdout",
     "output_type": "stream",
     "text": [
      "24\n"
     ]
    }
   ],
   "source": [
    "_prince = 24\n",
    "print (_prince)"
   ]
  },
  {
   "cell_type": "code",
   "execution_count": 69,
   "id": "2c7adb4c-a23f-4a5b-bc50-2633d54adada",
   "metadata": {},
   "outputs": [
    {
     "name": "stdout",
     "output_type": "stream",
     "text": [
      "Prince kumar Patel\n"
     ]
    }
   ],
   "source": [
    "first_name = \"Prince\"\n",
    "Midle_name = \"kumar\"\n",
    "Last_name = \"Patel\"\n",
    "print(first_name, Midle_name, Last_name)"
   ]
  },
  {
   "cell_type": "code",
   "execution_count": 71,
   "id": "49adf332-65a2-4f56-a745-21e2f31d03b8",
   "metadata": {},
   "outputs": [
    {
     "name": "stdout",
     "output_type": "stream",
     "text": [
      "Prince/kumar/Patel\n"
     ]
    }
   ],
   "source": [
    "first_name = \"Prince\"\n",
    "Midle_name = \"kumar\"\n",
    "Last_name = \"Patel\"\n",
    "print(first_name, Midle_name, Last_name,sep=\"/\")"
   ]
  },
  {
   "cell_type": "code",
   "execution_count": 88,
   "id": "59816456-2298-4911-b9c1-b206c9c57f48",
   "metadata": {},
   "outputs": [
    {
     "name": "stdout",
     "output_type": "stream",
     "text": [
      "1\n",
      "2 3\n",
      "6\n"
     ]
    }
   ],
   "source": [
    "a,b,c = 1,2,3\n",
    "print(a)\n",
    "print(b,c)\n",
    "print(a+b+c)"
   ]
  },
  {
   "cell_type": "code",
   "execution_count": 96,
   "id": "e7c4af05-fd7e-4bbb-b4f2-786a2917f93c",
   "metadata": {},
   "outputs": [
    {
     "name": "stdout",
     "output_type": "stream",
     "text": [
      "10\n"
     ]
    }
   ],
   "source": [
    "a = 10\n",
    "print(a)"
   ]
  },
  {
   "cell_type": "code",
   "execution_count": 100,
   "id": "41ab1367-f0b3-4cdf-9e8e-07a61d83317d",
   "metadata": {},
   "outputs": [
    {
     "name": "stdout",
     "output_type": "stream",
     "text": [
      "hello\n"
     ]
    }
   ],
   "source": [
    "print('hello')"
   ]
  },
  {
   "cell_type": "code",
   "execution_count": 106,
   "id": "6ebe598c-30b3-4a4e-9cba-9d796096940b",
   "metadata": {},
   "outputs": [
    {
     "name": "stdout",
     "output_type": "stream",
     "text": [
      "helo wold\n"
     ]
    }
   ],
   "source": [
    "print('helo',end=\" \")\n",
    "print('wold')"
   ]
  },
  {
   "cell_type": "code",
   "execution_count": 110,
   "id": "dce2cd97-58f8-4963-8dc0-58f87d2b0717",
   "metadata": {},
   "outputs": [
    {
     "name": "stdout",
     "output_type": "stream",
     "text": [
      "10/20/30\n"
     ]
    }
   ],
   "source": [
    "print(10,20,30,sep=\"/\")"
   ]
  },
  {
   "cell_type": "code",
   "execution_count": 114,
   "id": "1a7f3ded-caa2-47cf-84d8-5daf6f68772c",
   "metadata": {},
   "outputs": [
    {
     "ename": "SyntaxError",
     "evalue": "invalid syntax (3814230077.py, line 2)",
     "output_type": "error",
     "traceback": [
      "\u001b[1;36m  Cell \u001b[1;32mIn[114], line 2\u001b[1;36m\u001b[0m\n\u001b[1;33m    print(value@)\u001b[0m\n\u001b[1;37m                ^\u001b[0m\n\u001b[1;31mSyntaxError\u001b[0m\u001b[1;31m:\u001b[0m invalid syntax\n"
     ]
    }
   ],
   "source": [
    "value@=10\n",
    "print(value@)"
   ]
  },
  {
   "cell_type": "code",
   "execution_count": 116,
   "id": "ec8dcb8c-0253-46f9-b7dc-f96b53e36fbf",
   "metadata": {},
   "outputs": [
    {
     "name": "stdout",
     "output_type": "stream",
     "text": [
      "10 20\n"
     ]
    }
   ],
   "source": [
    "first1 = 10\n",
    "Second2 = 20\n",
    "print(first1,Second2)"
   ]
  },
  {
   "cell_type": "code",
   "execution_count": 118,
   "id": "1efe9e41-01a9-456f-85a3-89c7d7ce2bad",
   "metadata": {},
   "outputs": [
    {
     "name": "stdout",
     "output_type": "stream",
     "text": [
      "5.0\n"
     ]
    }
   ],
   "source": [
    "a = 10\n",
    "b = 2\n",
    "print(a/b)"
   ]
  },
  {
   "cell_type": "code",
   "execution_count": 120,
   "id": "781b9d05-755b-43ca-9706-e4a6b72ceecd",
   "metadata": {},
   "outputs": [
    {
     "name": "stdout",
     "output_type": "stream",
     "text": [
      "4\n"
     ]
    }
   ],
   "source": [
    "a = 2\n",
    "b = 2\n",
    "print(a*b)"
   ]
  },
  {
   "cell_type": "code",
   "execution_count": 132,
   "id": "35894291-9ce8-4440-aaf1-a6074e8bafa4",
   "metadata": {},
   "outputs": [
    {
     "data": {
      "text/plain": [
       "1.2"
      ]
     },
     "execution_count": 132,
     "metadata": {},
     "output_type": "execute_result"
    }
   ],
   "source": [
    "float(1.2)"
   ]
  },
  {
   "cell_type": "code",
   "execution_count": 134,
   "id": "45732a12-5718-4773-87d5-f2c8d315005e",
   "metadata": {},
   "outputs": [
    {
     "data": {
      "text/plain": [
       "float"
      ]
     },
     "execution_count": 134,
     "metadata": {},
     "output_type": "execute_result"
    }
   ],
   "source": [
    "type(1.2)"
   ]
  },
  {
   "cell_type": "code",
   "execution_count": 138,
   "id": "7926c98d-4d1d-420e-93a5-160b2bf0b558",
   "metadata": {},
   "outputs": [
    {
     "data": {
      "text/plain": [
       "(10+0j)"
      ]
     },
     "execution_count": 138,
     "metadata": {},
     "output_type": "execute_result"
    }
   ],
   "source": [
    "complex(10)"
   ]
  },
  {
   "cell_type": "code",
   "execution_count": 140,
   "id": "0ac1eac6-6e29-454f-b300-8f75bc53fd77",
   "metadata": {},
   "outputs": [
    {
     "data": {
      "text/plain": [
       "complex"
      ]
     },
     "execution_count": 140,
     "metadata": {},
     "output_type": "execute_result"
    }
   ],
   "source": [
    "type(10+0j)"
   ]
  },
  {
   "cell_type": "code",
   "execution_count": 142,
   "id": "4037722c-e9c3-4303-8a29-8b9b519289ce",
   "metadata": {},
   "outputs": [
    {
     "data": {
      "text/plain": [
       "'helo'"
      ]
     },
     "execution_count": 142,
     "metadata": {},
     "output_type": "execute_result"
    }
   ],
   "source": [
    "str('helo')"
   ]
  },
  {
   "cell_type": "code",
   "execution_count": 144,
   "id": "f65fbe56-d9b7-4faa-914a-2e5b02411aac",
   "metadata": {},
   "outputs": [
    {
     "data": {
      "text/plain": [
       "str"
      ]
     },
     "execution_count": 144,
     "metadata": {},
     "output_type": "execute_result"
    }
   ],
   "source": [
    "type('helo')"
   ]
  },
  {
   "cell_type": "code",
   "execution_count": 146,
   "id": "44fe5c10-aa02-48d4-b5d0-50bb6300d2c1",
   "metadata": {},
   "outputs": [
    {
     "data": {
      "text/plain": [
       "True"
      ]
     },
     "execution_count": 146,
     "metadata": {},
     "output_type": "execute_result"
    }
   ],
   "source": [
    "bool(1+2)"
   ]
  },
  {
   "cell_type": "code",
   "execution_count": 148,
   "id": "3311c59a-13d8-4016-9b59-c9bf00e06b0a",
   "metadata": {},
   "outputs": [
    {
     "data": {
      "text/plain": [
       "True"
      ]
     },
     "execution_count": 148,
     "metadata": {},
     "output_type": "execute_result"
    }
   ],
   "source": [
    "bool(2-1)"
   ]
  },
  {
   "cell_type": "code",
   "execution_count": 150,
   "id": "dc44533c-b467-445f-9f06-2a477da1ce0a",
   "metadata": {},
   "outputs": [
    {
     "data": {
      "text/plain": [
       "False"
      ]
     },
     "execution_count": 150,
     "metadata": {},
     "output_type": "execute_result"
    }
   ],
   "source": [
    "bool(0)"
   ]
  },
  {
   "cell_type": "code",
   "execution_count": 152,
   "id": "b84e99fb-9243-48aa-b51f-cf65c6c18e22",
   "metadata": {},
   "outputs": [
    {
     "data": {
      "text/plain": [
       "True"
      ]
     },
     "execution_count": 152,
     "metadata": {},
     "output_type": "execute_result"
    }
   ],
   "source": [
    "bool(1)"
   ]
  },
  {
   "cell_type": "code",
   "execution_count": 154,
   "id": "3e509612-78d4-46a8-8872-d59f9c32c20e",
   "metadata": {},
   "outputs": [
    {
     "data": {
      "text/plain": [
       "False"
      ]
     },
     "execution_count": 154,
     "metadata": {},
     "output_type": "execute_result"
    }
   ],
   "source": [
    "bool(1>2)"
   ]
  },
  {
   "cell_type": "code",
   "execution_count": 156,
   "id": "88c0ac99-c860-4fb2-a26b-e58839bc4733",
   "metadata": {},
   "outputs": [
    {
     "data": {
      "text/plain": [
       "True"
      ]
     },
     "execution_count": 156,
     "metadata": {},
     "output_type": "execute_result"
    }
   ],
   "source": [
    "bool(1+2>1+1)"
   ]
  },
  {
   "cell_type": "code",
   "execution_count": 158,
   "id": "20ecc35a-023a-4a44-9980-ae29d0909ccb",
   "metadata": {},
   "outputs": [
    {
     "data": {
      "text/plain": [
       "False"
      ]
     },
     "execution_count": 158,
     "metadata": {},
     "output_type": "execute_result"
    }
   ],
   "source": [
    "bool(2-1>2+1)"
   ]
  },
  {
   "cell_type": "code",
   "execution_count": null,
   "id": "d0a36d13-4736-4394-95d9-ef19eb868dc2",
   "metadata": {},
   "outputs": [],
   "source": []
  }
 ],
 "metadata": {
  "kernelspec": {
   "display_name": "Python [conda env:base] *",
   "language": "python",
   "name": "conda-base-py"
  },
  "language_info": {
   "codemirror_mode": {
    "name": "ipython",
    "version": 3
   },
   "file_extension": ".py",
   "mimetype": "text/x-python",
   "name": "python",
   "nbconvert_exporter": "python",
   "pygments_lexer": "ipython3",
   "version": "3.12.7"
  }
 },
 "nbformat": 4,
 "nbformat_minor": 5
}
