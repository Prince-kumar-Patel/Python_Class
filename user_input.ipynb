{
 "cells": [
  {
   "cell_type": "markdown",
   "id": "e3bcf3bd-2281-4744-9944-c5e7b47b3ce5",
   "metadata": {},
   "source": [
    "user_input_function"
   ]
  },
  {
   "cell_type": "code",
   "execution_count": 2,
   "id": "c26e82f6-e6ad-451a-bf8b-8568c020f332",
   "metadata": {},
   "outputs": [],
   "source": [
    "a = 'hello'"
   ]
  },
  {
   "cell_type": "code",
   "execution_count": 4,
   "id": "62857929-2ca4-4949-ae23-07bc2e123948",
   "metadata": {},
   "outputs": [
    {
     "data": {
      "text/plain": [
       "5"
      ]
     },
     "execution_count": 4,
     "metadata": {},
     "output_type": "execute_result"
    }
   ],
   "source": [
    "len(a)"
   ]
  },
  {
   "cell_type": "code",
   "execution_count": 6,
   "id": "95e4932d-b7b1-4e9f-841f-9ebbe274a51b",
   "metadata": {},
   "outputs": [
    {
     "data": {
      "text/plain": [
       "str"
      ]
     },
     "execution_count": 6,
     "metadata": {},
     "output_type": "execute_result"
    }
   ],
   "source": [
    "type(a)"
   ]
  },
  {
   "cell_type": "code",
   "execution_count": 8,
   "id": "66b31915-bc8a-4e72-9ccd-f959e6cf6303",
   "metadata": {},
   "outputs": [
    {
     "name": "stdin",
     "output_type": "stream",
     "text": [
      "enter your mail arun@123\n"
     ]
    },
    {
     "data": {
      "text/plain": [
       "'arun@123'"
      ]
     },
     "execution_count": 8,
     "metadata": {},
     "output_type": "execute_result"
    }
   ],
   "source": [
    "input('enter your mail')"
   ]
  },
  {
   "cell_type": "code",
   "execution_count": 10,
   "id": "9d33ea4a-5095-43c9-9dd1-327c3002a197",
   "metadata": {},
   "outputs": [
    {
     "name": "stdin",
     "output_type": "stream",
     "text": [
      "enter your  20\n"
     ]
    },
    {
     "data": {
      "text/plain": [
       "'20'"
      ]
     },
     "execution_count": 10,
     "metadata": {},
     "output_type": "execute_result"
    }
   ],
   "source": [
    "input('enter your ')"
   ]
  },
  {
   "cell_type": "code",
   "execution_count": 12,
   "id": "acd0d028-0554-46c4-9875-01b51d091379",
   "metadata": {},
   "outputs": [
    {
     "name": "stdin",
     "output_type": "stream",
     "text": [
      "enter your fisrt name arun\n",
      "enter your last name kumar\n",
      "enter your age 25\n",
      "enter mobile number ,welcome: 8448171563\n"
     ]
    }
   ],
   "source": [
    "\n",
    "first_name = input('enter your fisrt name')\n",
    "last_name = input('enter your last name')\n",
    "age = input('enter your age')\n",
    "mobile_no = input('enter mobile number ,welcome:')"
   ]
  },
  {
   "cell_type": "code",
   "execution_count": 14,
   "id": "4e5c60d2-9547-4cc4-92cb-a7f22ec00226",
   "metadata": {},
   "outputs": [
    {
     "name": "stdin",
     "output_type": "stream",
     "text": [
      "enter your first nymbr 10\n",
      "second numver 20\n"
     ]
    },
    {
     "name": "stdout",
     "output_type": "stream",
     "text": [
      "1020\n"
     ]
    }
   ],
   "source": [
    "first_num = input('enter your first nymbr')\n",
    "second = input('second numver')\n",
    "print(first_num+second)"
   ]
  },
  {
   "cell_type": "code",
   "execution_count": 16,
   "id": "1a195ff7-2c68-4480-80f8-b4c4bc8e4df7",
   "metadata": {},
   "outputs": [
    {
     "name": "stdin",
     "output_type": "stream",
     "text": [
      "enter your first nymbr 10\n",
      "second numver 20\n"
     ]
    },
    {
     "name": "stdout",
     "output_type": "stream",
     "text": [
      "30\n"
     ]
    }
   ],
   "source": [
    "first_num = int(input('enter your first nymbr'))\n",
    "second = int(input('second numver'))\n",
    "print(first_num+second)"
   ]
  },
  {
   "cell_type": "code",
   "execution_count": 18,
   "id": "dbadbd60-7899-4d99-bdd4-e010c63ecaf4",
   "metadata": {},
   "outputs": [
    {
     "name": "stdin",
     "output_type": "stream",
     "text": [
      "enter your Name prince\n"
     ]
    },
    {
     "data": {
      "text/plain": [
       "'prince'"
      ]
     },
     "execution_count": 18,
     "metadata": {},
     "output_type": "execute_result"
    }
   ],
   "source": [
    "input('enter your Name')"
   ]
  },
  {
   "cell_type": "code",
   "execution_count": 22,
   "id": "6d4c46fc-dae0-4b78-8200-10136560e0a0",
   "metadata": {},
   "outputs": [
    {
     "name": "stdin",
     "output_type": "stream",
     "text": [
      "enter your first no 5\n",
      "enter your Second no 20\n"
     ]
    },
    {
     "name": "stdout",
     "output_type": "stream",
     "text": [
      "25\n"
     ]
    }
   ],
   "source": [
    "first_no = int(input('enter your first no'))\n",
    "second_no = int(input('enter your Second no'))\n",
    "print(first_no+second_no)"
   ]
  },
  {
   "cell_type": "code",
   "execution_count": 30,
   "id": "97028218-2359-4d9c-bdb8-8d4b46f09be0",
   "metadata": {},
   "outputs": [
    {
     "name": "stdin",
     "output_type": "stream",
     "text": [
      "enter your name prince\n",
      "enter your Gmail patelprince9683@gmail.com\n",
      "enter your Paswoord prince9693\n",
      "enter your mobile no 9683299981\n"
     ]
    }
   ],
   "source": [
    "First_Name = input('enter your name')\n",
    "Gmail = input ('enter your Gmail')\n",
    "paswoord = input ('enter your Paswoord')\n",
    "Mobile_No = input ('enter your mobile no')"
   ]
  },
  {
   "cell_type": "code",
   "execution_count": null,
   "id": "55f97430-20cc-4851-a37e-1a8517a7150d",
   "metadata": {},
   "outputs": [],
   "source": []
  }
 ],
 "metadata": {
  "kernelspec": {
   "display_name": "Python [conda env:base] *",
   "language": "python",
   "name": "conda-base-py"
  },
  "language_info": {
   "codemirror_mode": {
    "name": "ipython",
    "version": 3
   },
   "file_extension": ".py",
   "mimetype": "text/x-python",
   "name": "python",
   "nbconvert_exporter": "python",
   "pygments_lexer": "ipython3",
   "version": "3.12.7"
  }
 },
 "nbformat": 4,
 "nbformat_minor": 5
}
