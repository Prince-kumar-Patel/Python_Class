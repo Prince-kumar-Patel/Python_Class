{
 "cells": [
  {
   "cell_type": "markdown",
   "id": "0460b3ba-b2d9-452b-959b-1e4838582611",
   "metadata": {},
   "source": [
    "1-we cannt assign keyword in variable"
   ]
  },
  {
   "cell_type": "code",
   "execution_count": 50,
   "id": "ab1b6344-8db6-41cd-a6c2-3b61942f3235",
   "metadata": {},
   "outputs": [
    {
     "ename": "SyntaxError",
     "evalue": "invalid syntax (3594483855.py, line 1)",
     "output_type": "error",
     "traceback": [
      "\u001b[1;36m  Cell \u001b[1;32mIn[50], line 1\u001b[1;36m\u001b[0m\n\u001b[1;33m    def = 10\u001b[0m\n\u001b[1;37m        ^\u001b[0m\n\u001b[1;31mSyntaxError\u001b[0m\u001b[1;31m:\u001b[0m invalid syntax\n"
     ]
    }
   ],
   "source": [
    "def = 10"
   ]
  },
  {
   "cell_type": "markdown",
   "id": "99908502-0875-4a81-b7c7-7e3c8c905603",
   "metadata": {},
   "source": [
    "2-kisi bhi variables me numbers assign nhi kar sakte"
   ]
  },
  {
   "cell_type": "code",
   "execution_count": 53,
   "id": "4b0ba2cf-c60e-4f35-ba18-0eda0ec8f958",
   "metadata": {},
   "outputs": [
    {
     "ename": "SyntaxError",
     "evalue": "invalid decimal literal (482919702.py, line 1)",
     "output_type": "error",
     "traceback": [
      "\u001b[1;36m  Cell \u001b[1;32mIn[53], line 1\u001b[1;36m\u001b[0m\n\u001b[1;33m    1a = 10\u001b[0m\n\u001b[1;37m    ^\u001b[0m\n\u001b[1;31mSyntaxError\u001b[0m\u001b[1;31m:\u001b[0m invalid decimal literal\n"
     ]
    }
   ],
   "source": [
    "1a = 10"
   ]
  },
  {
   "cell_type": "markdown",
   "id": "07f8b7f8-88b8-4c44-9a92-361a143617b9",
   "metadata": {},
   "source": [
    "special characters not assign"
   ]
  },
  {
   "cell_type": "code",
   "execution_count": 60,
   "id": "c339c145-fa45-453a-9e0f-b03e51227b47",
   "metadata": {},
   "outputs": [
    {
     "ename": "SyntaxError",
     "evalue": "invalid syntax (199263051.py, line 1)",
     "output_type": "error",
     "traceback": [
      "\u001b[1;36m  Cell \u001b[1;32mIn[60], line 1\u001b[1;36m\u001b[0m\n\u001b[1;33m    == 10\u001b[0m\n\u001b[1;37m    ^\u001b[0m\n\u001b[1;31mSyntaxError\u001b[0m\u001b[1;31m:\u001b[0m invalid syntax\n"
     ]
    }
   ],
   "source": [
    "== 10"
   ]
  },
  {
   "cell_type": "code",
   "execution_count": 64,
   "id": "fbdfaca3-5dc5-48a0-ab1a-31e02dcdafb1",
   "metadata": {},
   "outputs": [],
   "source": [
    "_ram = 10"
   ]
  },
  {
   "cell_type": "code",
   "execution_count": 66,
   "id": "33fa1639-ee9e-4cd5-bc01-cff4a6957a41",
   "metadata": {},
   "outputs": [
    {
     "data": {
      "text/plain": [
       "10"
      ]
     },
     "execution_count": 66,
     "metadata": {},
     "output_type": "execute_result"
    }
   ],
   "source": [
    "_ram"
   ]
  },
  {
   "cell_type": "code",
   "execution_count": 68,
   "id": "6af07951-6883-4af9-8605-f582f34974a9",
   "metadata": {},
   "outputs": [],
   "source": [
    "ram_ = 11"
   ]
  },
  {
   "cell_type": "code",
   "execution_count": 70,
   "id": "3d296a44-3d6b-4bcd-b713-853e83d77c61",
   "metadata": {},
   "outputs": [
    {
     "data": {
      "text/plain": [
       "11"
      ]
     },
     "execution_count": 70,
     "metadata": {},
     "output_type": "execute_result"
    }
   ],
   "source": [
    "ram_"
   ]
  },
  {
   "cell_type": "code",
   "execution_count": null,
   "id": "829e53bf-6b34-4ad6-a202-e5f53b4f677a",
   "metadata": {},
   "outputs": [],
   "source": [
    "#Basic Assignment:\n",
    "x = 10"
   ]
  },
  {
   "cell_type": "code",
   "execution_count": null,
   "id": "df2966f0-3be1-43f5-a0fc-874d46bd5a26",
   "metadata": {},
   "outputs": [],
   "source": [
    "#. Multiple Variable Assignment:\n",
    "x, y, z = 10, 20, 30  # x=10, y=20, z=30\n"
   ]
  },
  {
   "cell_type": "code",
   "execution_count": 84,
   "id": "bd96fa36-99f6-43e4-b820-20564de5a879",
   "metadata": {},
   "outputs": [],
   "source": [
    "# Assigning the Same Value to Multiple Variables:\n",
    "x = y = z = 5  # x, y, z all have the value 5"
   ]
  },
  {
   "cell_type": "code",
   "execution_count": null,
   "id": "d49ec4f2-7c06-41de-9329-50f2ed87d9b6",
   "metadata": {},
   "outputs": [],
   "source": [
    "# Using Expressions to Assign Values:\n",
    "x = 10 + 20  # x is assigned the value 30"
   ]
  },
  {
   "cell_type": "code",
   "execution_count": 72,
   "id": "4b7145aa-e3c1-47d1-bb71-9cf408723d39",
   "metadata": {},
   "outputs": [],
   "source": [
    "x=10+20"
   ]
  },
  {
   "cell_type": "code",
   "execution_count": 76,
   "id": "7e6ac2a4-df25-4d26-be33-f92bae4b6a59",
   "metadata": {},
   "outputs": [
    {
     "name": "stdout",
     "output_type": "stream",
     "text": [
      "30\n"
     ]
    }
   ],
   "source": [
    "print(x)"
   ]
  },
  {
   "cell_type": "code",
   "execution_count": 78,
   "id": "70189fee-bfd7-47b0-b530-e5ba8a0c53f6",
   "metadata": {},
   "outputs": [],
   "source": [
    "x=10"
   ]
  },
  {
   "cell_type": "code",
   "execution_count": 80,
   "id": "461ff176-e53b-4e53-abd3-06f952aba428",
   "metadata": {},
   "outputs": [
    {
     "name": "stdout",
     "output_type": "stream",
     "text": [
      "10\n"
     ]
    }
   ],
   "source": [
    "print(x)"
   ]
  },
  {
   "cell_type": "code",
   "execution_count": 86,
   "id": "6a53a0fc-e5a4-4925-9a86-20f8f3ec0465",
   "metadata": {},
   "outputs": [
    {
     "data": {
      "text/plain": [
       "5"
      ]
     },
     "execution_count": 86,
     "metadata": {},
     "output_type": "execute_result"
    }
   ],
   "source": [
    "x"
   ]
  },
  {
   "cell_type": "code",
   "execution_count": 88,
   "id": "c75b6690-f858-4cff-8efe-cbaa8b4fd12e",
   "metadata": {},
   "outputs": [
    {
     "data": {
      "text/plain": [
       "5"
      ]
     },
     "execution_count": 88,
     "metadata": {},
     "output_type": "execute_result"
    }
   ],
   "source": [
    "y"
   ]
  },
  {
   "cell_type": "code",
   "execution_count": 91,
   "id": "f8193b35-8d7f-473e-b383-0b9f59d7ec4d",
   "metadata": {},
   "outputs": [],
   "source": [
    "# arun"
   ]
  },
  {
   "cell_type": "markdown",
   "id": "44d9ec42-4e54-45d1-a31b-396e75b6b6dd",
   "metadata": {},
   "source": [
    "data type\n",
    "        "
   ]
  },
  {
   "cell_type": "markdown",
   "id": "61c0f27f-9bb9-4951-8481-d05d81641556",
   "metadata": {},
   "source": [
    "#int,float,string,boolean"
   ]
  },
  {
   "cell_type": "code",
   "execution_count": 100,
   "id": "796f53e3-168e-4f55-b79c-b62a5111e955",
   "metadata": {},
   "outputs": [],
   "source": [
    "a = 10"
   ]
  },
  {
   "cell_type": "code",
   "execution_count": 102,
   "id": "e88105e3-4965-4542-93c2-3270ce2840fd",
   "metadata": {},
   "outputs": [
    {
     "data": {
      "text/plain": [
       "int"
      ]
     },
     "execution_count": 102,
     "metadata": {},
     "output_type": "execute_result"
    }
   ],
   "source": [
    "type(a)"
   ]
  },
  {
   "cell_type": "code",
   "execution_count": 104,
   "id": "34fd01dd-f691-4049-a815-ccad78f07d7b",
   "metadata": {},
   "outputs": [],
   "source": [
    "b = 121"
   ]
  },
  {
   "cell_type": "code",
   "execution_count": 106,
   "id": "3778fc2c-84d5-4d46-ad55-189d0b5c4821",
   "metadata": {},
   "outputs": [
    {
     "data": {
      "text/plain": [
       "int"
      ]
     },
     "execution_count": 106,
     "metadata": {},
     "output_type": "execute_result"
    }
   ],
   "source": [
    "type(b)"
   ]
  },
  {
   "cell_type": "code",
   "execution_count": 108,
   "id": "c22c7375-20db-4e3a-a4c1-cdc597853e8f",
   "metadata": {},
   "outputs": [],
   "source": [
    "x = 20.2"
   ]
  },
  {
   "cell_type": "code",
   "execution_count": 110,
   "id": "67ef1a86-0fcd-47b4-96ab-cb782606c5ae",
   "metadata": {},
   "outputs": [
    {
     "data": {
      "text/plain": [
       "float"
      ]
     },
     "execution_count": 110,
     "metadata": {},
     "output_type": "execute_result"
    }
   ],
   "source": [
    "type(x)"
   ]
  },
  {
   "cell_type": "code",
   "execution_count": 112,
   "id": "4998de55-7acd-4d53-ac23-29d505ca1034",
   "metadata": {},
   "outputs": [],
   "source": [
    "name = ram"
   ]
  },
  {
   "cell_type": "code",
   "execution_count": 114,
   "id": "16341067-cd60-494b-80a5-fed46f13b3c9",
   "metadata": {},
   "outputs": [
    {
     "data": {
      "text/plain": [
       "int"
      ]
     },
     "execution_count": 114,
     "metadata": {},
     "output_type": "execute_result"
    }
   ],
   "source": [
    "type(name)"
   ]
  },
  {
   "cell_type": "code",
   "execution_count": 116,
   "id": "a20abf11-0eab-49f0-ab9d-2b5b373d2ef0",
   "metadata": {},
   "outputs": [],
   "source": [
    "name = \"ram\""
   ]
  },
  {
   "cell_type": "code",
   "execution_count": 120,
   "id": "6e8e68d7-2e32-4d56-8c9a-39c1e38dc169",
   "metadata": {},
   "outputs": [],
   "source": [
    "name2 = 'sita'"
   ]
  },
  {
   "cell_type": "code",
   "execution_count": 118,
   "id": "8d242cb1-ad3f-4a9b-a669-b2cb3ac212ce",
   "metadata": {},
   "outputs": [
    {
     "data": {
      "text/plain": [
       "str"
      ]
     },
     "execution_count": 118,
     "metadata": {},
     "output_type": "execute_result"
    }
   ],
   "source": [
    "type(name)"
   ]
  },
  {
   "cell_type": "code",
   "execution_count": 122,
   "id": "82bb4a46-a7c8-4e4f-9871-25746a46e152",
   "metadata": {},
   "outputs": [
    {
     "data": {
      "text/plain": [
       "str"
      ]
     },
     "execution_count": 122,
     "metadata": {},
     "output_type": "execute_result"
    }
   ],
   "source": [
    "type(name2)"
   ]
  },
  {
   "cell_type": "code",
   "execution_count": 126,
   "id": "c1dec9e4-2b60-4cb5-ad61-8715e28deb12",
   "metadata": {},
   "outputs": [],
   "source": [
    "a = True"
   ]
  },
  {
   "cell_type": "code",
   "execution_count": 128,
   "id": "61c7a4e1-9208-4838-a758-2e0cd2834422",
   "metadata": {},
   "outputs": [
    {
     "data": {
      "text/plain": [
       "bool"
      ]
     },
     "execution_count": 128,
     "metadata": {},
     "output_type": "execute_result"
    }
   ],
   "source": [
    "type(a)"
   ]
  },
  {
   "cell_type": "code",
   "execution_count": 130,
   "id": "9b80d2fc-401c-45a7-b5d8-dfd15da65b11",
   "metadata": {},
   "outputs": [],
   "source": [
    "x = 10,2.0,\"ram\",True"
   ]
  },
  {
   "cell_type": "code",
   "execution_count": 132,
   "id": "6f94dbd0-4c41-41c1-9193-264185e29d3d",
   "metadata": {},
   "outputs": [
    {
     "data": {
      "text/plain": [
       "tuple"
      ]
     },
     "execution_count": 132,
     "metadata": {},
     "output_type": "execute_result"
    }
   ],
   "source": [
    "type(x)"
   ]
  },
  {
   "cell_type": "code",
   "execution_count": 134,
   "id": "f41f28ce-3ec5-4987-9c4d-2253c918d13d",
   "metadata": {},
   "outputs": [],
   "source": [
    "y = [10,2.0,\"ram\",True]"
   ]
  },
  {
   "cell_type": "code",
   "execution_count": 136,
   "id": "5627b21d-d030-4c08-8c6d-4376af0fa68e",
   "metadata": {},
   "outputs": [
    {
     "data": {
      "text/plain": [
       "[10, 2.0, 'ram', True]"
      ]
     },
     "execution_count": 136,
     "metadata": {},
     "output_type": "execute_result"
    }
   ],
   "source": [
    "y"
   ]
  },
  {
   "cell_type": "code",
   "execution_count": 138,
   "id": "9ddfd369-7615-42b8-8cb0-154c1425851b",
   "metadata": {},
   "outputs": [
    {
     "data": {
      "text/plain": [
       "list"
      ]
     },
     "execution_count": 138,
     "metadata": {},
     "output_type": "execute_result"
    }
   ],
   "source": [
    "type(y)"
   ]
  },
  {
   "cell_type": "markdown",
   "id": "2d4e562c-f5ea-429e-80b6-dcf3206ed06f",
   "metadata": {},
   "source": [
    "1. Valid Variable Names"
   ]
  },
  {
   "cell_type": "code",
   "execution_count": null,
   "id": "a1c45e8b-113d-49d2-869e-e0850b02cc9e",
   "metadata": {},
   "outputs": [],
   "source": [
    "age = 25\n",
    "name = \"John\"\n",
    "address = \"123 Main St\"\n"
   ]
  },
  {
   "cell_type": "markdown",
   "id": "85d5dca2-633c-4f26-81fe-614755f0deb4",
   "metadata": {},
   "source": [
    "2. Invalid Variable Names"
   ]
  },
  {
   "cell_type": "raw",
   "id": "7a5fb24f-7abc-4277-8ecd-68cb7e05dc88",
   "metadata": {},
   "source": [
    "Python does not allow special characters like @, $, #, etc., or keywords like if, while, and for to be used as variable names. Here’s an exercise where you need to identify invalid variable names.\n",
    "\n",
    "Write a Python code snippet and test the following variables. Which ones are valid, and which ones are invalid?\n",
    "\n",
    "name@\n",
    "if\n",
    "#name\n",
    "total_amount\n",
    "for\n",
    "user_name"
   ]
  },
  {
   "cell_type": "code",
   "execution_count": null,
   "id": "b52e188e-e394-4940-97b2-a877af28694c",
   "metadata": {},
   "outputs": [],
   "source": [
    "class_var = \"Python Class\"\n",
    "my_variable = \"Some Value\"\n",
    "while_condition = True\n",
    "value_100 = 100\n",
    "my_var = \"Variable Name\"\n"
   ]
  },
  {
   "cell_type": "code",
   "execution_count": 143,
   "id": "9c843483-f825-4506-a52b-25b9e36de44e",
   "metadata": {},
   "outputs": [],
   "source": [
    "a = 10"
   ]
  },
  {
   "cell_type": "code",
   "execution_count": 145,
   "id": "871f02cf-ff0f-45b8-9ec3-322a6efc437b",
   "metadata": {},
   "outputs": [],
   "source": [
    "b = 10"
   ]
  },
  {
   "cell_type": "code",
   "execution_count": 147,
   "id": "22200813-9b56-4005-b6ff-691bd46eb2e7",
   "metadata": {},
   "outputs": [
    {
     "data": {
      "text/plain": [
       "140706293689048"
      ]
     },
     "execution_count": 147,
     "metadata": {},
     "output_type": "execute_result"
    }
   ],
   "source": [
    "id(a)"
   ]
  },
  {
   "cell_type": "code",
   "execution_count": 149,
   "id": "b938eba9-6260-433a-97c8-fb6bf72a48e4",
   "metadata": {},
   "outputs": [
    {
     "data": {
      "text/plain": [
       "140706293689048"
      ]
     },
     "execution_count": 149,
     "metadata": {},
     "output_type": "execute_result"
    }
   ],
   "source": [
    "id(10)"
   ]
  },
  {
   "cell_type": "code",
   "execution_count": null,
   "id": "38ef8acf-b5f7-411f-9ca4-a0dfcaa35980",
   "metadata": {},
   "outputs": [],
   "source": []
  }
 ],
 "metadata": {
  "kernelspec": {
   "display_name": "Python [conda env:base] *",
   "language": "python",
   "name": "conda-base-py"
  },
  "language_info": {
   "codemirror_mode": {
    "name": "ipython",
    "version": 3
   },
   "file_extension": ".py",
   "mimetype": "text/x-python",
   "name": "python",
   "nbconvert_exporter": "python",
   "pygments_lexer": "ipython3",
   "version": "3.12.7"
  }
 },
 "nbformat": 4,
 "nbformat_minor": 5
}
