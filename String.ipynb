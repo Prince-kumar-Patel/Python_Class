{
 "cells": [
  {
   "cell_type": "code",
   "execution_count": 1,
   "id": "0fcc1f45-9cbf-4534-baf0-5f137cf16b8d",
   "metadata": {},
   "outputs": [
    {
     "name": "stdout",
     "output_type": "stream",
     "text": [
      "hello\n"
     ]
    }
   ],
   "source": [
    "c = 'hello'\n",
    "print(c)"
   ]
  },
  {
   "cell_type": "code",
   "execution_count": 5,
   "id": "162d4992-35a0-4e5e-a01d-00d8f8cba99e",
   "metadata": {},
   "outputs": [
    {
     "name": "stdout",
     "output_type": "stream",
     "text": [
      "hello\n"
     ]
    }
   ],
   "source": [
    "c = \"hello\"\n",
    "print(c)"
   ]
  },
  {
   "cell_type": "code",
   "execution_count": 7,
   "id": "fd33418e-d3aa-45d2-af14-8b9043937f44",
   "metadata": {},
   "outputs": [
    {
     "name": "stdout",
     "output_type": "stream",
     "text": [
      "hello\n"
     ]
    }
   ],
   "source": [
    "print(\"\"\"hello\"\"\")"
   ]
  },
  {
   "cell_type": "code",
   "execution_count": 11,
   "id": "0874b4f0-b753-4cde-8249-fd077219aa20",
   "metadata": {},
   "outputs": [
    {
     "name": "stdout",
     "output_type": "stream",
     "text": [
      "helo\n"
     ]
    }
   ],
   "source": [
    "print ('helo')"
   ]
  },
  {
   "cell_type": "code",
   "execution_count": 15,
   "id": "c285e518-1c42-4b10-a960-b53efd2c0d3b",
   "metadata": {},
   "outputs": [
    {
     "name": "stdout",
     "output_type": "stream",
     "text": [
      "helo\n"
     ]
    }
   ],
   "source": [
    "c = str('helo')\n",
    "print(c)"
   ]
  },
  {
   "cell_type": "markdown",
   "id": "be747303-ba44-478d-813d-7737d6b75b2b",
   "metadata": {},
   "source": [
    "Accessing Substrings from a String"
   ]
  },
  {
   "cell_type": "code",
   "execution_count": 22,
   "id": "3ac6e69e-3786-4c34-92fa-3c66e1c436ab",
   "metadata": {},
   "outputs": [
    {
     "name": "stdout",
     "output_type": "stream",
     "text": [
      "helo\n"
     ]
    }
   ],
   "source": [
    "# Concept of Indexing\n",
    "c = \"helo\"\n",
    "print(c)"
   ]
  },
  {
   "cell_type": "code",
   "execution_count": 24,
   "id": "9c47dec7-bed2-41f5-88ae-db7bd1886cc6",
   "metadata": {},
   "outputs": [
    {
     "data": {
      "text/plain": [
       "'h'"
      ]
     },
     "execution_count": 24,
     "metadata": {},
     "output_type": "execute_result"
    }
   ],
   "source": [
    "c[0]"
   ]
  },
  {
   "cell_type": "code",
   "execution_count": 26,
   "id": "ffc8b9c1-38e7-4625-bf1c-fd93d641fd13",
   "metadata": {},
   "outputs": [
    {
     "data": {
      "text/plain": [
       "'e'"
      ]
     },
     "execution_count": 26,
     "metadata": {},
     "output_type": "execute_result"
    }
   ],
   "source": [
    "c[1]"
   ]
  },
  {
   "cell_type": "code",
   "execution_count": 28,
   "id": "afeb9875-3244-42cf-bf3f-c7b89f4d9fa2",
   "metadata": {},
   "outputs": [
    {
     "data": {
      "text/plain": [
       "'l'"
      ]
     },
     "execution_count": 28,
     "metadata": {},
     "output_type": "execute_result"
    }
   ],
   "source": [
    "c[2]"
   ]
  },
  {
   "cell_type": "code",
   "execution_count": 30,
   "id": "0275d4e6-ec74-4a18-b382-0e598810ae66",
   "metadata": {},
   "outputs": [
    {
     "data": {
      "text/plain": [
       "'o'"
      ]
     },
     "execution_count": 30,
     "metadata": {},
     "output_type": "execute_result"
    }
   ],
   "source": [
    "c[3]"
   ]
  },
  {
   "cell_type": "code",
   "execution_count": 38,
   "id": "0e26b604-f877-45e9-8662-a85a2dcd45c7",
   "metadata": {},
   "outputs": [
    {
     "name": "stdout",
     "output_type": "stream",
     "text": [
      "e\n"
     ]
    }
   ],
   "source": [
    "print(c[1])"
   ]
  },
  {
   "cell_type": "code",
   "execution_count": 57,
   "id": "12e7f2d4-a897-4dea-aff3-fd31ebfe85b4",
   "metadata": {},
   "outputs": [
    {
     "name": "stdout",
     "output_type": "stream",
     "text": [
      "this is a python\n"
     ]
    }
   ],
   "source": [
    "# Slicing\n",
    "c = 'this is a python'\n",
    "print(c)"
   ]
  },
  {
   "cell_type": "code",
   "execution_count": 71,
   "id": "ea0b80cf-69ca-4c78-bc4f-8de4e774e510",
   "metadata": {},
   "outputs": [
    {
     "data": {
      "text/plain": [
       "'y'"
      ]
     },
     "execution_count": 71,
     "metadata": {},
     "output_type": "execute_result"
    }
   ],
   "source": [
    "c[-5]"
   ]
  },
  {
   "cell_type": "code",
   "execution_count": 75,
   "id": "35dc653b-ff03-4cf9-874c-ac5857477d02",
   "metadata": {},
   "outputs": [
    {
     "name": "stdout",
     "output_type": "stream",
     "text": [
      "a python\n"
     ]
    }
   ],
   "source": [
    "print(c[-8:])"
   ]
  },
  {
   "cell_type": "code",
   "execution_count": 77,
   "id": "3d1522d0-ec06-4db0-a6a5-c518494c399e",
   "metadata": {},
   "outputs": [
    {
     "name": "stdout",
     "output_type": "stream",
     "text": [
      "this is a python\n"
     ]
    }
   ],
   "source": [
    "print(c[-0:])"
   ]
  },
  {
   "cell_type": "code",
   "execution_count": 85,
   "id": "3b7e6520-5e3f-4298-933f-6ae1a3991bf5",
   "metadata": {},
   "outputs": [
    {
     "data": {
      "text/plain": [
       "'a'"
      ]
     },
     "execution_count": 85,
     "metadata": {},
     "output_type": "execute_result"
    }
   ],
   "source": [
    "c[8:-7]"
   ]
  },
  {
   "cell_type": "code",
   "execution_count": 87,
   "id": "41b464ce-cc3f-49fb-b300-48538cdc1f69",
   "metadata": {},
   "outputs": [
    {
     "data": {
      "text/plain": [
       "'s'"
      ]
     },
     "execution_count": 87,
     "metadata": {},
     "output_type": "execute_result"
    }
   ],
   "source": [
    "c[6:-9]"
   ]
  },
  {
   "cell_type": "markdown",
   "id": "a2a6984e-72ce-4829-96b7-ade95546fedd",
   "metadata": {},
   "source": [
    "Add Char"
   ]
  },
  {
   "cell_type": "code",
   "execution_count": 93,
   "id": "cc172ee4-e67a-48ae-b688-ece9410abbcf",
   "metadata": {},
   "outputs": [
    {
     "name": "stdout",
     "output_type": "stream",
     "text": [
      "prince kumar\n"
     ]
    }
   ],
   "source": [
    "a = \"prince\"\n",
    "b = \"kumar\"\n",
    "print(a,b )"
   ]
  },
  {
   "cell_type": "code",
   "execution_count": 99,
   "id": "fc2ddbc8-cfec-4175-bb71-ca2dfeabfa45",
   "metadata": {},
   "outputs": [
    {
     "name": "stdout",
     "output_type": "stream",
     "text": [
      "prince + kumar\n"
     ]
    }
   ],
   "source": [
    "print(a,\"+\",b)"
   ]
  },
  {
   "cell_type": "code",
   "execution_count": 119,
   "id": "3c978583-b2a9-45f3-b127-46789c2ab3e8",
   "metadata": {},
   "outputs": [
    {
     "name": "stdout",
     "output_type": "stream",
     "text": [
      "prince kumar patel\n"
     ]
    }
   ],
   "source": [
    "print(a,b+ \" patel\")"
   ]
  },
  {
   "cell_type": "code",
   "execution_count": 141,
   "id": "a7507f20-8c26-42fa-b9bf-040a053cadef",
   "metadata": {},
   "outputs": [
    {
     "name": "stdout",
     "output_type": "stream",
     "text": [
      "prince+kumar how are youi am a gentel man\n"
     ]
    }
   ],
   "source": [
    "print(a,b + \" how are you\" + \"i am a gentel man\", sep=\"+\")"
   ]
  },
  {
   "cell_type": "markdown",
   "id": "9c55effd-6690-4482-b801-c1cea2300128",
   "metadata": {},
   "source": [
    "Edit & 5. Delete"
   ]
  },
  {
   "cell_type": "code",
   "execution_count": 144,
   "id": "fc8f6ddb-cd34-427d-9f7f-66883b9e57d1",
   "metadata": {},
   "outputs": [
    {
     "name": "stdout",
     "output_type": "stream",
     "text": [
      "prince\n"
     ]
    }
   ],
   "source": [
    "a = \"prince\"\n",
    "print(a)"
   ]
  },
  {
   "cell_type": "code",
   "execution_count": 148,
   "id": "2ceea7c4-a3f1-46e5-b317-9dd00520f64e",
   "metadata": {},
   "outputs": [
    {
     "ename": "NameError",
     "evalue": "name 'a' is not defined",
     "output_type": "error",
     "traceback": [
      "\u001b[1;31m---------------------------------------------------------------------------\u001b[0m",
      "\u001b[1;31mNameError\u001b[0m                                 Traceback (most recent call last)",
      "Cell \u001b[1;32mIn[148], line 1\u001b[0m\n\u001b[1;32m----> 1\u001b[0m \u001b[38;5;28;01mdel\u001b[39;00m(a)\n",
      "\u001b[1;31mNameError\u001b[0m: name 'a' is not defined"
     ]
    }
   ],
   "source": [
    "del(a)"
   ]
  },
  {
   "cell_type": "code",
   "execution_count": 152,
   "id": "70577822-4d62-42b7-8d5d-470774303a12",
   "metadata": {},
   "outputs": [
    {
     "ename": "NameError",
     "evalue": "name 'a' is not defined",
     "output_type": "error",
     "traceback": [
      "\u001b[1;31m---------------------------------------------------------------------------\u001b[0m",
      "\u001b[1;31mNameError\u001b[0m                                 Traceback (most recent call last)",
      "Cell \u001b[1;32mIn[152], line 1\u001b[0m\n\u001b[1;32m----> 1\u001b[0m \u001b[38;5;28;01mdel\u001b[39;00m(a[\u001b[38;5;241m0\u001b[39m:\u001b[38;5;241m2\u001b[39m])\n",
      "\u001b[1;31mNameError\u001b[0m: name 'a' is not defined"
     ]
    }
   ],
   "source": [
    "del(a[0:2])"
   ]
  },
  {
   "cell_type": "raw",
   "id": "e2984f7b-8658-4639-a6c1-36f98b97dde0",
   "metadata": {},
   "source": [
    "6. Ops on Strings\n",
    "Arithmetic: Concatenation (+), Repetition (*)\n",
    "Relational: Equality (==), Inequality (!=), Comparison (<, >, <=, >=)\n",
    "Logical: and, or, not\n",
    "Loops: for loop, while loop\n",
    "Membership: in, not in"
   ]
  },
  {
   "cell_type": "code",
   "execution_count": 24,
   "id": "adace83e-e765-4237-95b5-daa073f9164a",
   "metadata": {},
   "outputs": [
    {
     "name": "stdout",
     "output_type": "stream",
     "text": [
      "hello wold\n"
     ]
    }
   ],
   "source": [
    "a = \"hello\"\n",
    "b = \"wold\"\n",
    "print(a,b)"
   ]
  },
  {
   "cell_type": "code",
   "execution_count": 26,
   "id": "da96e894-200f-4795-b7d8-4a269ee9229f",
   "metadata": {},
   "outputs": [
    {
     "name": "stdout",
     "output_type": "stream",
     "text": [
      "hello wold how are you\n"
     ]
    }
   ],
   "source": [
    "print(a,b+ \" how are you\")"
   ]
  },
  {
   "cell_type": "code",
   "execution_count": 34,
   "id": "6b840de5-f811-4577-9e81-e5dcff46f235",
   "metadata": {},
   "outputs": [
    {
     "name": "stdout",
     "output_type": "stream",
     "text": [
      " heloo  heloo  heloo  heloo  heloo  heloo  heloo  heloo  heloo  heloo  heloo  heloo  heloo  heloo  heloo  heloo  heloo  heloo  heloo  heloo  heloo  heloo  heloo  heloo  heloo  heloo  heloo  heloo  heloo  heloo  heloo  heloo  heloo  heloo  heloo  heloo  heloo  heloo  heloo  heloo  heloo  heloo  heloo  heloo  heloo  heloo  heloo  heloo  heloo  heloo \n"
     ]
    }
   ],
   "source": [
    " print(\" heloo \" * 50)"
   ]
  },
  {
   "cell_type": "code",
   "execution_count": 36,
   "id": "e2a6cb0c-4aa5-44d0-9ef1-6b2044d99d70",
   "metadata": {},
   "outputs": [
    {
     "name": "stdout",
     "output_type": "stream",
     "text": [
      "False\n"
     ]
    }
   ],
   "source": [
    "a = \"hello\"\n",
    "b = \"wold\"\n",
    "print(a>b)"
   ]
  },
  {
   "cell_type": "code",
   "execution_count": 38,
   "id": "a73123d6-0408-4cdb-b219-9c3ef26eafa6",
   "metadata": {},
   "outputs": [
    {
     "name": "stdout",
     "output_type": "stream",
     "text": [
      "True\n"
     ]
    }
   ],
   "source": [
    "a = \"hello\"\n",
    "b = \"wold\"\n",
    "print(a<b)"
   ]
  },
  {
   "cell_type": "code",
   "execution_count": 40,
   "id": "5186cb97-6e17-4ca3-b931-a930fe9ab912",
   "metadata": {},
   "outputs": [
    {
     "name": "stdout",
     "output_type": "stream",
     "text": [
      "False\n"
     ]
    }
   ],
   "source": [
    "a = \"hello\"\n",
    "b = \"wold\"\n",
    "print(a==b)"
   ]
  },
  {
   "cell_type": "code",
   "execution_count": 42,
   "id": "46870d98-eaa8-4fa4-8986-2aa617b5ba40",
   "metadata": {},
   "outputs": [
    {
     "name": "stdout",
     "output_type": "stream",
     "text": [
      "True\n"
     ]
    }
   ],
   "source": [
    "a = \"hello\"\n",
    "b = \"wold\"\n",
    "print(a!=b)"
   ]
  },
  {
   "cell_type": "code",
   "execution_count": 44,
   "id": "8f2d9b87-f944-4217-8c3b-298cb5b7cf4e",
   "metadata": {},
   "outputs": [
    {
     "name": "stdout",
     "output_type": "stream",
     "text": [
      "prince\n",
      "prince\n",
      "prince\n",
      "prince\n",
      "prince\n",
      "prince\n"
     ]
    }
   ],
   "source": [
    "a = \"prince\"\n",
    "for i in a:\n",
    "    print(a)"
   ]
  },
  {
   "cell_type": "code",
   "execution_count": 48,
   "id": "50097e24-8c33-4e20-a20a-ca3a36272eaa",
   "metadata": {},
   "outputs": [
    {
     "data": {
      "text/plain": [
       "' wold'"
      ]
     },
     "execution_count": 48,
     "metadata": {},
     "output_type": "execute_result"
    }
   ],
   "source": [
    "\"hello\" and \" wold\" "
   ]
  },
  {
   "cell_type": "code",
   "execution_count": 50,
   "id": "86c03d2c-2be4-46a1-9e6e-6d751427cd78",
   "metadata": {},
   "outputs": [
    {
     "data": {
      "text/plain": [
       "'hello'"
      ]
     },
     "execution_count": 50,
     "metadata": {},
     "output_type": "execute_result"
    }
   ],
   "source": [
    "\"hello\" or \" wold\" "
   ]
  },
  {
   "cell_type": "code",
   "execution_count": 52,
   "id": "451ca901-a5e5-459e-b61b-4d61712927fa",
   "metadata": {},
   "outputs": [
    {
     "data": {
      "text/plain": [
       "False"
      ]
     },
     "execution_count": 52,
     "metadata": {},
     "output_type": "execute_result"
    }
   ],
   "source": [
    "\"hello\" in \" wold\" "
   ]
  },
  {
   "attachments": {},
   "cell_type": "markdown",
   "id": "2f5000da-da1a-4f9a-bb1b-4eebb6e74d16",
   "metadata": {},
   "source": [
    "7. String Functions\n",
    "1. Common Functions\n",
    "len()\n",
    "max()\n",
    "min()\n",
    "sorted()\n",
    "\n"
   ]
  },
  {
   "cell_type": "code",
   "execution_count": 56,
   "id": "5c2e7d98-ff59-4b30-ad3f-2a6aa863f0e3",
   "metadata": {},
   "outputs": [
    {
     "data": {
      "text/plain": [
       "7"
      ]
     },
     "execution_count": 56,
     "metadata": {},
     "output_type": "execute_result"
    }
   ],
   "source": [
    "a = 'kolkata'\n",
    "len(a)"
   ]
  },
  {
   "cell_type": "code",
   "execution_count": 60,
   "id": "38b1bf20-1c38-46b1-b989-660361c4a889",
   "metadata": {},
   "outputs": [
    {
     "data": {
      "text/plain": [
       "'t'"
      ]
     },
     "execution_count": 60,
     "metadata": {},
     "output_type": "execute_result"
    }
   ],
   "source": [
    "max(a)"
   ]
  },
  {
   "cell_type": "code",
   "execution_count": 64,
   "id": "641efa1c-106f-4bca-b8ff-d84e9fc38c10",
   "metadata": {},
   "outputs": [
    {
     "data": {
      "text/plain": [
       "'a'"
      ]
     },
     "execution_count": 64,
     "metadata": {},
     "output_type": "execute_result"
    }
   ],
   "source": [
    "min(a)"
   ]
  },
  {
   "cell_type": "code",
   "execution_count": 66,
   "id": "1009d9d3-e3ec-4143-ad79-81a086c66449",
   "metadata": {},
   "outputs": [
    {
     "data": {
      "text/plain": [
       "['a', 'a', 'k', 'k', 'l', 'o', 't']"
      ]
     },
     "execution_count": 66,
     "metadata": {},
     "output_type": "execute_result"
    }
   ],
   "source": [
    "sorted(a)"
   ]
  },
  {
   "cell_type": "code",
   "execution_count": null,
   "id": "69474a0c-34cc-4617-b0f0-8a8cfec9cee9",
   "metadata": {},
   "outputs": [],
   "source": []
  }
 ],
 "metadata": {
  "kernelspec": {
   "display_name": "Python [conda env:base] *",
   "language": "python",
   "name": "conda-base-py"
  },
  "language_info": {
   "codemirror_mode": {
    "name": "ipython",
    "version": 3
   },
   "file_extension": ".py",
   "mimetype": "text/x-python",
   "name": "python",
   "nbconvert_exporter": "python",
   "pygments_lexer": "ipython3",
   "version": "3.12.7"
  }
 },
 "nbformat": 4,
 "nbformat_minor": 5
}
