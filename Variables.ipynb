{
 "cells": [
  {
   "cell_type": "markdown",
   "id": "5918565f-51c7-4b14-93db-caafafbae51d",
   "metadata": {},
   "source": [
    "Variables\n"
   ]
  },
  {
   "cell_type": "code",
   "execution_count": 4,
   "id": "26139fa4-94b2-4cc7-a494-dd62086d0220",
   "metadata": {},
   "outputs": [
    {
     "name": "stdout",
     "output_type": "stream",
     "text": [
      "10\n"
     ]
    }
   ],
   "source": [
    "a = 10\n",
    "b = 20\n",
    "print (a)"
   ]
  },
  {
   "cell_type": "code",
   "execution_count": 6,
   "id": "4c1ab93c-d4ea-4d93-8a6f-ceb94559516d",
   "metadata": {},
   "outputs": [
    {
     "name": "stdout",
     "output_type": "stream",
     "text": [
      "20 30\n"
     ]
    }
   ],
   "source": [
    "a = 20\n",
    "b = 30\n",
    "print (a,b)"
   ]
  },
  {
   "cell_type": "code",
   "execution_count": 8,
   "id": "0d532439-1bfa-4e0b-a110-6c0d63db595d",
   "metadata": {},
   "outputs": [
    {
     "name": "stdout",
     "output_type": "stream",
     "text": [
      "110\n"
     ]
    }
   ],
   "source": [
    "a = 30\n",
    "b = 30\n",
    "c = 50\n",
    "print (a+b+c)"
   ]
  },
  {
   "cell_type": "code",
   "execution_count": null,
   "id": "bc2a85c1-eede-4ecb-a56a-31d0dd8ed5db",
   "metadata": {},
   "outputs": [],
   "source": []
  }
 ],
 "metadata": {
  "kernelspec": {
   "display_name": "Python [conda env:base] *",
   "language": "python",
   "name": "conda-base-py"
  },
  "language_info": {
   "codemirror_mode": {
    "name": "ipython",
    "version": 3
   },
   "file_extension": ".py",
   "mimetype": "text/x-python",
   "name": "python",
   "nbconvert_exporter": "python",
   "pygments_lexer": "ipython3",
   "version": "3.12.7"
  }
 },
 "nbformat": 4,
 "nbformat_minor": 5
}
