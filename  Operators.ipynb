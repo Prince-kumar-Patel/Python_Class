{
 "cells": [
  {
   "cell_type": "markdown",
   "id": "762d404b-3735-4020-80ba-b1e1a56a0bea",
   "metadata": {},
   "source": [
    "\n",
    "Operators"
   ]
  },
  {
   "cell_type": "code",
   "execution_count": 18,
   "id": "a5dd0b3d-4ccc-4871-bd3b-b85efc108f5c",
   "metadata": {},
   "outputs": [
    {
     "name": "stdout",
     "output_type": "stream",
     "text": [
      "6\n"
     ]
    }
   ],
   "source": [
    "#Arithmetic Operators\n",
    "a = 4\n",
    "b = 2\n",
    "print (a+b) # Add"
   ]
  },
  {
   "cell_type": "code",
   "execution_count": 20,
   "id": "3229e0b2-6667-4c06-ae68-f1dbe66a4703",
   "metadata": {},
   "outputs": [
    {
     "name": "stdout",
     "output_type": "stream",
     "text": [
      "8\n"
     ]
    }
   ],
   "source": [
    "print(a*b) #Multiply"
   ]
  },
  {
   "cell_type": "code",
   "execution_count": 22,
   "id": "8da7aca6-bf87-42ef-a650-748584d180af",
   "metadata": {},
   "outputs": [
    {
     "name": "stdout",
     "output_type": "stream",
     "text": [
      "2\n"
     ]
    }
   ],
   "source": [
    "print(a-b) #Subtract"
   ]
  },
  {
   "cell_type": "code",
   "execution_count": 24,
   "id": "9ecf74c3-58d3-4e30-84fb-10bd01f7a657",
   "metadata": {},
   "outputs": [
    {
     "name": "stdout",
     "output_type": "stream",
     "text": [
      "2.0\n"
     ]
    }
   ],
   "source": [
    "print(a/b) #divide"
   ]
  },
  {
   "cell_type": "code",
   "execution_count": 26,
   "id": "fe24c035-0148-4012-8355-23a52c3a8819",
   "metadata": {},
   "outputs": [
    {
     "name": "stdout",
     "output_type": "stream",
     "text": [
      "16\n"
     ]
    }
   ],
   "source": [
    "print(a**b) # Squer"
   ]
  },
  {
   "cell_type": "code",
   "execution_count": 30,
   "id": "4531c3db-72a8-4702-bfd9-a93a262f6c89",
   "metadata": {},
   "outputs": [
    {
     "name": "stdout",
     "output_type": "stream",
     "text": [
      "2\n"
     ]
    }
   ],
   "source": [
    "print(a//b)"
   ]
  },
  {
   "cell_type": "code",
   "execution_count": 32,
   "id": "ca5b105d-5660-44f6-b9f3-af50d7a5372e",
   "metadata": {},
   "outputs": [
    {
     "name": "stdout",
     "output_type": "stream",
     "text": [
      "0\n"
     ]
    }
   ],
   "source": [
    "print(a%b)"
   ]
  },
  {
   "cell_type": "markdown",
   "id": "ec71e3cc-e8cd-4e38-ace0-c8a1559b60c9",
   "metadata": {},
   "source": [
    "Comparison:"
   ]
  },
  {
   "cell_type": "code",
   "execution_count": 35,
   "id": "00ca2b24-f552-4811-a5ae-94077a7ee17f",
   "metadata": {},
   "outputs": [
    {
     "name": "stdout",
     "output_type": "stream",
     "text": [
      "True\n"
     ]
    }
   ],
   "source": [
    "print(a>b)"
   ]
  },
  {
   "cell_type": "code",
   "execution_count": 37,
   "id": "bcdc1d17-0cd1-4afd-899e-396eb783c80a",
   "metadata": {},
   "outputs": [
    {
     "name": "stdout",
     "output_type": "stream",
     "text": [
      "False\n"
     ]
    }
   ],
   "source": [
    "print(a<b)"
   ]
  },
  {
   "cell_type": "code",
   "execution_count": 39,
   "id": "ed4fcfa1-f2f2-4989-8b66-d9de7797bb54",
   "metadata": {},
   "outputs": [
    {
     "name": "stdout",
     "output_type": "stream",
     "text": [
      "True\n"
     ]
    }
   ],
   "source": [
    "print(a>=b)"
   ]
  },
  {
   "cell_type": "code",
   "execution_count": 45,
   "id": "10da6153-0da8-4373-967f-feede4e44c3f",
   "metadata": {},
   "outputs": [
    {
     "name": "stdout",
     "output_type": "stream",
     "text": [
      "False\n"
     ]
    }
   ],
   "source": [
    "print(a<=b)"
   ]
  },
  {
   "cell_type": "code",
   "execution_count": 47,
   "id": "c07f389a-8c02-4cf6-a47c-82a8581fe9f7",
   "metadata": {},
   "outputs": [
    {
     "name": "stdout",
     "output_type": "stream",
     "text": [
      "False\n"
     ]
    }
   ],
   "source": [
    "print(a==b)"
   ]
  },
  {
   "cell_type": "code",
   "execution_count": 49,
   "id": "e8da2f81-4f8f-4f93-a775-825449e89851",
   "metadata": {},
   "outputs": [
    {
     "name": "stdout",
     "output_type": "stream",
     "text": [
      "True\n"
     ]
    }
   ],
   "source": [
    "print(a!=b) (#not= to)"
   ]
  },
  {
   "cell_type": "markdown",
   "id": "f4fe3a6e-71de-436c-a985-d80483f50c4a",
   "metadata": {},
   "source": [
    "Logical Operators :- and,or, Not"
   ]
  },
  {
   "cell_type": "code",
   "execution_count": 52,
   "id": "5731b867-d5ab-4f96-96dd-41b8751cd849",
   "metadata": {},
   "outputs": [],
   "source": [
    "a = 5\n",
    "b = 6 \n",
    "c = 5"
   ]
  },
  {
   "cell_type": "code",
   "execution_count": 54,
   "id": "9c0f01d3-4406-4506-a419-4d08da18f8b4",
   "metadata": {},
   "outputs": [
    {
     "name": "stdout",
     "output_type": "stream",
     "text": [
      "False\n"
     ]
    }
   ],
   "source": [
    "print(a == b and a ==c )"
   ]
  },
  {
   "cell_type": "code",
   "execution_count": 56,
   "id": "fd8c6d87-cf07-4162-8bde-d29a304e85e7",
   "metadata": {},
   "outputs": [
    {
     "name": "stdout",
     "output_type": "stream",
     "text": [
      "True\n"
     ]
    }
   ],
   "source": [
    "print(a==b or a == c )"
   ]
  },
  {
   "cell_type": "code",
   "execution_count": 58,
   "id": "ba8619fa-325b-4847-8708-e8976b426c7f",
   "metadata": {},
   "outputs": [
    {
     "name": "stdout",
     "output_type": "stream",
     "text": [
      "True\n"
     ]
    }
   ],
   "source": [
    "print(a==c and b!=c)"
   ]
  },
  {
   "cell_type": "markdown",
   "id": "5f43959a-59f6-4230-a678-c1d68cce0cb8",
   "metadata": {},
   "source": [
    "Assignment =, +=, -=, *=, /=, %=, **=, //="
   ]
  },
  {
   "cell_type": "code",
   "execution_count": 85,
   "id": "fece6598-4d5d-4508-8641-77afb425c775",
   "metadata": {},
   "outputs": [
    {
     "name": "stdout",
     "output_type": "stream",
     "text": [
      "5\n",
      "4\n"
     ]
    }
   ],
   "source": [
    "a = 5\n",
    "y = 4\n",
    "print(a)\n",
    "print(y)"
   ]
  },
  {
   "cell_type": "code",
   "execution_count": 87,
   "id": "082213ea-160c-4c16-8d79-5c0f906e451f",
   "metadata": {},
   "outputs": [
    {
     "name": "stdout",
     "output_type": "stream",
     "text": [
      "10\n"
     ]
    }
   ],
   "source": [
    "a += 5\n",
    "print(a)"
   ]
  },
  {
   "cell_type": "code",
   "execution_count": 89,
   "id": "5c93b263-d290-4671-b168-045b671b3c82",
   "metadata": {},
   "outputs": [
    {
     "name": "stdout",
     "output_type": "stream",
     "text": [
      "0\n"
     ]
    }
   ],
   "source": [
    "y -= 4\n",
    "print(y)"
   ]
  },
  {
   "cell_type": "code",
   "execution_count": 91,
   "id": "b7e6c390-33ac-41e1-a1f3-685e691151c4",
   "metadata": {},
   "outputs": [
    {
     "name": "stdout",
     "output_type": "stream",
     "text": [
      "50\n"
     ]
    }
   ],
   "source": [
    "a *= 5\n",
    "print(a)"
   ]
  },
  {
   "cell_type": "code",
   "execution_count": 93,
   "id": "a0df87db-4f78-4b53-a5bd-974c668d7e68",
   "metadata": {},
   "outputs": [
    {
     "name": "stdout",
     "output_type": "stream",
     "text": [
      "10.0\n"
     ]
    }
   ],
   "source": [
    "a /= 5\n",
    "print(a)"
   ]
  },
  {
   "cell_type": "code",
   "execution_count": null,
   "id": "178b7cc7-120f-4a9b-ba6d-c9bdc51ef696",
   "metadata": {},
   "outputs": [],
   "source": []
  }
 ],
 "metadata": {
  "kernelspec": {
   "display_name": "Python [conda env:base] *",
   "language": "python",
   "name": "conda-base-py"
  },
  "language_info": {
   "codemirror_mode": {
    "name": "ipython",
    "version": 3
   },
   "file_extension": ".py",
   "mimetype": "text/x-python",
   "name": "python",
   "nbconvert_exporter": "python",
   "pygments_lexer": "ipython3",
   "version": "3.12.7"
  }
 },
 "nbformat": 4,
 "nbformat_minor": 5
}
