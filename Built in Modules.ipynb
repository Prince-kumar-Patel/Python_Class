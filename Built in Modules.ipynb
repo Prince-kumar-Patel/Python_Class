{
 "cells": [
  {
   "cell_type": "raw",
   "id": "d06f5f6e-3fbf-4622-b7f4-6b9f22290e8e",
   "metadata": {},
   "source": [
    "Built in Modules"
   ]
  },
  {
   "cell_type": "code",
   "execution_count": 3,
   "id": "284ea63e-2b77-40fe-b081-7b29720ea5e4",
   "metadata": {},
   "outputs": [
    {
     "name": "stdout",
     "output_type": "stream",
     "text": [
      "['False', 'None', 'True', 'and', 'as', 'assert', 'async', 'await', 'break', 'class', 'continue', 'def', 'del', 'elif', 'else', 'except', 'finally', 'for', 'from', 'global', 'if', 'import', 'in', 'is', 'lambda', 'nonlocal', 'not', 'or', 'pass', 'raise', 'return', 'try', 'while', 'with', 'yield']\n"
     ]
    }
   ],
   "source": [
    "import keyword\n",
    "print(keyword.kwlist)"
   ]
  },
  {
   "cell_type": "code",
   "execution_count": 5,
   "id": "b0fdf046-9db0-4d4c-ab43-31965ed4eeae",
   "metadata": {},
   "outputs": [],
   "source": [
    "import math"
   ]
  },
  {
   "cell_type": "code",
   "execution_count": 7,
   "id": "ca349453-b3fb-4558-8d83-c43ff15ffdc0",
   "metadata": {},
   "outputs": [
    {
     "data": {
      "text/plain": [
       "3.141592653589793"
      ]
     },
     "execution_count": 7,
     "metadata": {},
     "output_type": "execute_result"
    }
   ],
   "source": [
    "math.pi"
   ]
  },
  {
   "cell_type": "code",
   "execution_count": 9,
   "id": "7a38edf0-4c1c-48cd-884c-ab5e1e178a1f",
   "metadata": {},
   "outputs": [
    {
     "data": {
      "text/plain": [
       "2.718281828459045"
      ]
     },
     "execution_count": 9,
     "metadata": {},
     "output_type": "execute_result"
    }
   ],
   "source": [
    "math.e"
   ]
  },
  {
   "cell_type": "code",
   "execution_count": 17,
   "id": "c188738f-2bbb-42f6-9170-a642408ee456",
   "metadata": {},
   "outputs": [
    {
     "ename": "NameError",
     "evalue": "name 'mmath' is not defined",
     "output_type": "error",
     "traceback": [
      "\u001b[1;31m---------------------------------------------------------------------------\u001b[0m",
      "\u001b[1;31mNameError\u001b[0m                                 Traceback (most recent call last)",
      "Cell \u001b[1;32mIn[17], line 1\u001b[0m\n\u001b[1;32m----> 1\u001b[0m mmath\u001b[38;5;241m.\u001b[39mceil(\u001b[38;5;241m6.3\u001b[39m)\n",
      "\u001b[1;31mNameError\u001b[0m: name 'mmath' is not defined"
     ]
    }
   ],
   "source": [
    "mmath.ceil(6.3)"
   ]
  },
  {
   "cell_type": "code",
   "execution_count": 19,
   "id": "e3a0178c-7e2a-402b-9a7d-2ff37bc03639",
   "metadata": {},
   "outputs": [],
   "source": [
    "import time"
   ]
  },
  {
   "cell_type": "code",
   "execution_count": 21,
   "id": "16ee8805-b8bf-4f1a-874a-45d02c219aef",
   "metadata": {},
   "outputs": [
    {
     "data": {
      "text/plain": [
       "'Wed Mar  5 17:33:19 2025'"
      ]
     },
     "execution_count": 21,
     "metadata": {},
     "output_type": "execute_result"
    }
   ],
   "source": [
    "time.ctime()"
   ]
  },
  {
   "cell_type": "code",
   "execution_count": 27,
   "id": "c2004a2b-d1d3-41d8-9f88-27399b9962f0",
   "metadata": {},
   "outputs": [
    {
     "name": "stdout",
     "output_type": "stream",
     "text": [
      "hello\n",
      "prince\n"
     ]
    }
   ],
   "source": [
    "print(\"hello\")\n",
    "time.sleep(1) #for 10second\n",
    "print(\"prince\")"
   ]
  },
  {
   "cell_type": "code",
   "execution_count": 36,
   "id": "1d2510fd-9c4c-43c8-941e-780424ecc834",
   "metadata": {},
   "outputs": [
    {
     "name": "stdout",
     "output_type": "stream",
     "text": [
      "2025-03-05 17:38:33.451318\n"
     ]
    }
   ],
   "source": [
    "import datetime\n",
    "print(datetime.datetime.now()) #crunt date and time"
   ]
  },
  {
   "cell_type": "code",
   "execution_count": 50,
   "id": "69ed8dd6-1d39-42f2-8c72-e42bfe9d6ea8",
   "metadata": {},
   "outputs": [
    {
     "data": {
      "text/plain": [
       "[5, 2, 1, 4, 3]"
      ]
     },
     "execution_count": 50,
     "metadata": {},
     "output_type": "execute_result"
    }
   ],
   "source": [
    "import random\n",
    "a = [1, 2, 3, 4, 5]\n",
    "random.shuffle(a)\n",
    "a\n"
   ]
  }
 ],
 "metadata": {
  "kernelspec": {
   "display_name": "Python [conda env:base] *",
   "language": "python",
   "name": "conda-base-py"
  },
  "language_info": {
   "codemirror_mode": {
    "name": "ipython",
    "version": 3
   },
   "file_extension": ".py",
   "mimetype": "text/x-python",
   "name": "python",
   "nbconvert_exporter": "python",
   "pygments_lexer": "ipython3",
   "version": "3.12.7"
  }
 },
 "nbformat": 4,
 "nbformat_minor": 5
}
