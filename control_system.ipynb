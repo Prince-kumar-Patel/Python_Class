{
 "cells": [
  {
   "cell_type": "markdown",
   "id": "d509449c-f7c5-449a-8697-38b2f78adc05",
   "metadata": {},
   "source": [
    "contral system"
   ]
  },
  {
   "cell_type": "code",
   "execution_count": 2,
   "id": "1ea3bf7f-74cc-4931-abcb-908ba4ebcb3f",
   "metadata": {},
   "outputs": [],
   "source": [
    "#if\n",
    "#else\n",
    "#elif"
   ]
  },
  {
   "cell_type": "code",
   "execution_count": 8,
   "id": "8d380729-dbea-4d3f-9bcc-6366236e1d72",
   "metadata": {},
   "outputs": [
    {
     "name": "stdout",
     "output_type": "stream",
     "text": [
      "low score\n"
     ]
    }
   ],
   "source": [
    "a = 49\n",
    "if a>50:\n",
    "    print(\"good number\")\n",
    "else:\n",
    "    print(\"low score\")\n",
    "\n",
    "    "
   ]
  },
  {
   "cell_type": "code",
   "execution_count": 10,
   "id": "6200d0c1-e897-4103-83c8-fae88e17881d",
   "metadata": {},
   "outputs": [
    {
     "data": {
      "text/plain": [
       "['False',\n",
       " 'None',\n",
       " 'True',\n",
       " 'and',\n",
       " 'as',\n",
       " 'assert',\n",
       " 'async',\n",
       " 'await',\n",
       " 'break',\n",
       " 'class',\n",
       " 'continue',\n",
       " 'def',\n",
       " 'del',\n",
       " 'elif',\n",
       " 'else',\n",
       " 'except',\n",
       " 'finally',\n",
       " 'for',\n",
       " 'from',\n",
       " 'global',\n",
       " 'if',\n",
       " 'import',\n",
       " 'in',\n",
       " 'is',\n",
       " 'lambda',\n",
       " 'nonlocal',\n",
       " 'not',\n",
       " 'or',\n",
       " 'pass',\n",
       " 'raise',\n",
       " 'return',\n",
       " 'try',\n",
       " 'while',\n",
       " 'with',\n",
       " 'yield']"
      ]
     },
     "execution_count": 10,
     "metadata": {},
     "output_type": "execute_result"
    }
   ],
   "source": [
    "import keyword\n",
    "keyword.kwlist"
   ]
  },
  {
   "cell_type": "code",
   "execution_count": 16,
   "id": "90cb77b8-df8e-40fc-a051-590648a5b0d1",
   "metadata": {},
   "outputs": [
    {
     "name": "stdout",
     "output_type": "stream",
     "text": [
      "not able\n"
     ]
    }
   ],
   "source": [
    "a =17\n",
    "if a>=18:\n",
    "    print(\"you are able\")\n",
    "else:\n",
    "    print('not able')\n",
    "    "
   ]
  },
  {
   "cell_type": "code",
   "execution_count": 20,
   "id": "b9181461-123d-4143-84c3-e4a2f825951b",
   "metadata": {},
   "outputs": [
    {
     "name": "stdout",
     "output_type": "stream",
     "text": [
      "evan\n"
     ]
    }
   ],
   "source": [
    "a = 10\n",
    "if a%2==0:\n",
    "    print('evan')\n",
    "else:\n",
    "    print(\"odd\")\n",
    "    "
   ]
  },
  {
   "cell_type": "code",
   "execution_count": 26,
   "id": "1bab52b8-5c1a-44f8-b2ef-d17bb7426daf",
   "metadata": {},
   "outputs": [
    {
     "name": "stdin",
     "output_type": "stream",
     "text": [
      "enter the number 10\n"
     ]
    },
    {
     "name": "stdout",
     "output_type": "stream",
     "text": [
      "evan\n"
     ]
    }
   ],
   "source": [
    "a = int(input('enter the number'))\n",
    "if a%2==0:\n",
    "    print('evan')\n",
    "else:\n",
    "    print(\"odd\")\n",
    "    "
   ]
  },
  {
   "cell_type": "code",
   "execution_count": 32,
   "id": "23b2c98e-2739-429b-8b7a-47ccfcf625d1",
   "metadata": {},
   "outputs": [
    {
     "name": "stdin",
     "output_type": "stream",
     "text": [
      "enter the number 5\n"
     ]
    },
    {
     "name": "stdout",
     "output_type": "stream",
     "text": [
      "right\n"
     ]
    }
   ],
   "source": [
    "a = int(input('enter the number'))\n",
    "if a/2:\n",
    "    print('right')\n",
    "else:\n",
    "    print('rong')"
   ]
  },
  {
   "cell_type": "code",
   "execution_count": 38,
   "id": "d734709b-88c4-41bd-b255-294766d8f348",
   "metadata": {},
   "outputs": [
    {
     "name": "stdout",
     "output_type": "stream",
     "text": [
      "not able\n"
     ]
    }
   ],
   "source": [
    "a = 22\n",
    "if a>=25:\n",
    "    print('able')\n",
    "else:\n",
    "    print('not able')"
   ]
  },
  {
   "cell_type": "code",
   "execution_count": 44,
   "id": "1937d44f-52ae-47d9-96e8-3fa079115d7b",
   "metadata": {},
   "outputs": [
    {
     "name": "stdout",
     "output_type": "stream",
     "text": [
      "right\n"
     ]
    }
   ],
   "source": [
    "a = 112\n",
    "if a>100:\n",
    "    print('right')\n",
    "else:\n",
    "    print('note')\n",
    "    \n",
    "\n"
   ]
  },
  {
   "cell_type": "code",
   "execution_count": 48,
   "id": "36e2dd9e-b015-42bd-ade7-01958aa298f8",
   "metadata": {},
   "outputs": [
    {
     "name": "stdout",
     "output_type": "stream",
     "text": [
      "false\n"
     ]
    }
   ],
   "source": [
    "a = 122\n",
    "b = 100\n",
    "if a==b:\n",
    "    print('right')\n",
    "else:\n",
    "    print('false')"
   ]
  },
  {
   "cell_type": "code",
   "execution_count": 52,
   "id": "82182fbe-cd08-4bbe-aefd-9b4fa09e6c92",
   "metadata": {},
   "outputs": [
    {
     "ename": "SyntaxError",
     "evalue": "invalid syntax (2794034457.py, line 1)",
     "output_type": "error",
     "traceback": [
      "\u001b[1;36m  Cell \u001b[1;32mIn[52], line 1\u001b[1;36m\u001b[0m\n\u001b[1;33m    first Name =str(input('prince'))\u001b[0m\n\u001b[1;37m          ^\u001b[0m\n\u001b[1;31mSyntaxError\u001b[0m\u001b[1;31m:\u001b[0m invalid syntax\n"
     ]
    }
   ],
   "source": [
    "first Name =str(input('prince'))\n",
    "if first Name=='prince':\n",
    "last name = 'kumar'\n",
    "if last name=='kumar':\n",
    "print('welcome')\n",
    "else;\n",
    "print('false')"
   ]
  },
  {
   "cell_type": "code",
   "execution_count": null,
   "id": "cdfb85fd-633f-412a-9214-0532d29cd790",
   "metadata": {},
   "outputs": [],
   "source": []
  }
 ],
 "metadata": {
  "kernelspec": {
   "display_name": "Python [conda env:base] *",
   "language": "python",
   "name": "conda-base-py"
  },
  "language_info": {
   "codemirror_mode": {
    "name": "ipython",
    "version": 3
   },
   "file_extension": ".py",
   "mimetype": "text/x-python",
   "name": "python",
   "nbconvert_exporter": "python",
   "pygments_lexer": "ipython3",
   "version": "3.12.7"
  }
 },
 "nbformat": 4,
 "nbformat_minor": 5
}
