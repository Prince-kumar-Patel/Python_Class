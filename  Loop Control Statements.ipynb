{
 "cells": [
  {
   "cell_type": "markdown",
   "id": "2e535a86-0988-4ea6-b153-ec4a987f60dc",
   "metadata": {},
   "source": [
    "\n",
    "Break: Ends loop immediately.\n",
    "\n",
    "Continue: Skips to next iteration.\n",
    "\n",
    "Pass: Placeholder; does nothing."
   ]
  },
  {
   "cell_type": "code",
   "execution_count": 13,
   "id": "1663d963-7766-40b6-b1d7-5af085944745",
   "metadata": {},
   "outputs": [
    {
     "name": "stdout",
     "output_type": "stream",
     "text": [
      "1\n",
      "2\n",
      "3\n",
      "4\n"
     ]
    }
   ],
   "source": [
    "for i in range(1,10):\n",
    "    if i ==5:\n",
    "        break\n",
    "    print(i)"
   ]
  },
  {
   "cell_type": "code",
   "execution_count": 15,
   "id": "a8c7dce5-4607-4406-a4f2-069f95f1d878",
   "metadata": {},
   "outputs": [
    {
     "name": "stdout",
     "output_type": "stream",
     "text": [
      "1\n",
      "2\n",
      "3\n",
      "4\n",
      "6\n",
      "7\n",
      "8\n",
      "9\n",
      "10\n",
      "11\n",
      "12\n",
      "13\n",
      "14\n",
      "15\n",
      "16\n",
      "17\n",
      "18\n",
      "19\n"
     ]
    }
   ],
   "source": [
    "for i in range(1,20):\n",
    "    if i ==5:\n",
    "      continue\n",
    "    print(i)"
   ]
  },
  {
   "cell_type": "code",
   "execution_count": 41,
   "id": "fdb7e2c7-a1ab-4451-93f4-b8daf53a6533",
   "metadata": {},
   "outputs": [
    {
     "name": "stdout",
     "output_type": "stream",
     "text": [
      "1\n",
      "happy holi\n",
      "2\n",
      "happy holi\n",
      "3\n",
      "happy holi\n",
      "4\n",
      "happy holi\n",
      "5\n",
      "happy holi\n",
      "6\n",
      "happy holi\n",
      "7\n",
      "happy holi\n",
      "8\n",
      "happy holi\n",
      "9\n",
      "happy holi\n",
      "10\n",
      "happy holi\n",
      "11\n",
      "happy holi\n",
      "12\n",
      "happy holi\n",
      "13\n",
      "happy holi\n",
      "14\n",
      "happy holi\n",
      "15\n",
      "happy holi\n",
      "16\n",
      "happy holi\n",
      "17\n",
      "happy holi\n",
      "18\n",
      "happy holi\n",
      "19\n",
      "happy holi\n",
      "20\n",
      "happy holi\n"
     ]
    }
   ],
   "source": [
    "for i in range(1,21):\n",
    "    if i ==\"happy holi\":\n",
    "        continue\n",
    "    print(i)\n",
    "    print(\"happy holi\")"
   ]
  },
  {
   "cell_type": "code",
   "execution_count": null,
   "id": "6098021d-171d-4129-b740-f601e1d96e47",
   "metadata": {},
   "outputs": [],
   "source": []
  }
 ],
 "metadata": {
  "kernelspec": {
   "display_name": "Python [conda env:base] *",
   "language": "python",
   "name": "conda-base-py"
  },
  "language_info": {
   "codemirror_mode": {
    "name": "ipython",
    "version": 3
   },
   "file_extension": ".py",
   "mimetype": "text/x-python",
   "name": "python",
   "nbconvert_exporter": "python",
   "pygments_lexer": "ipython3",
   "version": "3.12.7"
  }
 },
 "nbformat": 4,
 "nbformat_minor": 5
}
