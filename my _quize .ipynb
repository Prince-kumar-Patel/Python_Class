{
 "cells": [
  {
   "cell_type": "raw",
   "id": "1b758672-ffc4-4dc0-801b-607d80e4d853",
   "metadata": {},
   "source": [
    "My_Quize"
   ]
  },
  {
   "cell_type": "code",
   "execution_count": 1,
   "id": "f973dea3-d98d-4597-bfe5-c75d789ac271",
   "metadata": {},
   "outputs": [],
   "source": [
    "# What is the purpose of the math module in Python?\n",
    "# Ans:- Mathematical operations"
   ]
  },
  {
   "cell_type": "code",
   "execution_count": 3,
   "id": "fb1181ef-0cbf-4cdd-857b-5f6537f720ac",
   "metadata": {},
   "outputs": [],
   "source": [
    "# Which of the following is a built-in function in Python?\n",
    "# Ans:-  All of the above"
   ]
  },
  {
   "cell_type": "code",
   "execution_count": 5,
   "id": "9519b67b-c331-4d72-8ede-6f2044053fc9",
   "metadata": {},
   "outputs": [],
   "source": [
    "# What will be the output of type(10) in Python?\n",
    "# Ans:- int"
   ]
  },
  {
   "cell_type": "code",
   "execution_count": 49,
   "id": "29cff020-463c-4b41-bfe1-44f5970d2e55",
   "metadata": {},
   "outputs": [
    {
     "name": "stdout",
     "output_type": "stream",
     "text": [
      "2\n"
     ]
    }
   ],
   "source": [
    "#vWhat is the result of 5 // 2?\n",
    "# Ans:- \n",
    "a= (5//2)\n",
    "print(a)\n"
   ]
  },
  {
   "cell_type": "code",
   "execution_count": 9,
   "id": "f5943e0a-0321-4ce9-b2df-2e91a2df1f11",
   "metadata": {},
   "outputs": [],
   "source": [
    "# Which operator is used for exponentiation in Python?\n",
    "# Ans:- **"
   ]
  },
  {
   "cell_type": "code",
   "execution_count": 11,
   "id": "220577f2-f480-4200-9b5a-bb8563fbb67e",
   "metadata": {},
   "outputs": [],
   "source": [
    "# Which function is used to get the length of a string in Python?\n",
    "# Ans:- len()"
   ]
  },
  {
   "cell_type": "code",
   "execution_count": 47,
   "id": "4dd7b025-b778-4e85-920d-9df332ab8a7e",
   "metadata": {},
   "outputs": [
    {
     "ename": "TypeError",
     "evalue": "'list' object is not callable",
     "output_type": "error",
     "traceback": [
      "\u001b[1;31m---------------------------------------------------------------------------\u001b[0m",
      "\u001b[1;31mTypeError\u001b[0m                                 Traceback (most recent call last)",
      "Cell \u001b[1;32mIn[47], line 3\u001b[0m\n\u001b[0;32m      1\u001b[0m \u001b[38;5;66;03m#  What will bool([]) return?\u001b[39;00m\n\u001b[0;32m      2\u001b[0m \u001b[38;5;66;03m# Ans:- Error\u001b[39;00m\n\u001b[1;32m----> 3\u001b[0m \u001b[38;5;28mbool\u001b[39m  ([])\n",
      "\u001b[1;31mTypeError\u001b[0m: 'list' object is not callable"
     ]
    }
   ],
   "source": [
    "#  What will bool([]) return?\n",
    "# Ans:- Error\n",
    "bool  ([])"
   ]
  },
  {
   "cell_type": "code",
   "execution_count": 15,
   "id": "88a7b46d-9ee5-43bd-a738-583e38da09ba",
   "metadata": {},
   "outputs": [],
   "source": [
    "#  Which of the following is an immutable data type in Python?\n",
    "# Ans:- Tuple"
   ]
  },
  {
   "cell_type": "code",
   "execution_count": 17,
   "id": "d3bee53c-a2ff-4550-b476-271827c2b625",
   "metadata": {},
   "outputs": [],
   "source": [
    "# What is the output of bool(0) in Python?\n",
    "# Ans:- False"
   ]
  },
  {
   "cell_type": "code",
   "execution_count": 19,
   "id": "cb1f2e14-fe16-43d0-a511-1273110956e5",
   "metadata": {},
   "outputs": [],
   "source": [
    "#  What will type(\"Hello\") return?\n",
    "# Ans:- str"
   ]
  },
  {
   "cell_type": "code",
   "execution_count": 21,
   "id": "47b99cb7-1f63-4597-8d09-af7da7e9c69e",
   "metadata": {},
   "outputs": [],
   "source": [
    "# What does the input() function return in Python?\n",
    "# Ans:- Integer"
   ]
  },
  {
   "cell_type": "code",
   "execution_count": 23,
   "id": "7b91c774-5494-4b17-9303-a8143ea4f7aa",
   "metadata": {},
   "outputs": [],
   "source": [
    "# Which operator is used to check equality in Python?\n",
    "# Ans:- =="
   ]
  },
  {
   "cell_type": "code",
   "execution_count": 25,
   "id": "0a7ce3ac-f50a-4392-a206-17dba4569bf3",
   "metadata": {},
   "outputs": [],
   "source": [
    "# What is the result of 10 % 3\n",
    "# Ans:-1"
   ]
  },
  {
   "cell_type": "code",
   "execution_count": 29,
   "id": "3e938ac9-9039-478b-be3c-b8946707b9fa",
   "metadata": {},
   "outputs": [
    {
     "name": "stdout",
     "output_type": "stream",
     "text": [
      "1\n"
     ]
    }
   ],
   "source": [
    "a  = (10 % 3)\n",
    "print(a)"
   ]
  },
  {
   "cell_type": "code",
   "execution_count": 31,
   "id": "9df4032e-c12d-4c10-ac99-82da5b5917f2",
   "metadata": {},
   "outputs": [
    {
     "data": {
      "text/plain": [
       "9"
      ]
     },
     "execution_count": 31,
     "metadata": {},
     "output_type": "execute_result"
    }
   ],
   "source": [
    "#  What will max([1, 5, 3, 9, 2]) return?\n",
    "# Ans:-9\n",
    "max(1,5,3,9,2)"
   ]
  },
  {
   "cell_type": "code",
   "execution_count": 33,
   "id": "a8c5365e-8ad1-4337-b701-0e069240a6ab",
   "metadata": {},
   "outputs": [],
   "source": [
    "# Which method is used to convert a string to lowercase in Python?\n",
    "# Ans:- tolowercase()"
   ]
  },
  {
   "cell_type": "code",
   "execution_count": 35,
   "id": "a8e267ef-1004-44ce-bb8c-c9d62d734bf4",
   "metadata": {},
   "outputs": [],
   "source": [
    "# What is the output of int(5.9)?\n",
    "# Ans:- 5.9"
   ]
  },
  {
   "cell_type": "code",
   "execution_count": 39,
   "id": "b685090c-975f-4647-b9d4-4ad72a6302e0",
   "metadata": {},
   "outputs": [
    {
     "data": {
      "text/plain": [
       "5"
      ]
     },
     "execution_count": 39,
     "metadata": {},
     "output_type": "execute_result"
    }
   ],
   "source": [
    "# What will len([1, 2, 3, 4, 5]) return?\n",
    "# Ans:- 5\n",
    "len([1,2,3,4,5])"
   ]
  },
  {
   "cell_type": "code",
   "execution_count": 41,
   "id": "5a4e32a9-aae9-4de4-9896-1e0f3542ede9",
   "metadata": {},
   "outputs": [],
   "source": [
    "#  What is the result of 3 * \"Python\"?\n",
    "# Ans:- Error"
   ]
  },
  {
   "cell_type": "code",
   "execution_count": 43,
   "id": "8eb6172b-823c-4b1f-9f77-7c976b9d2753",
   "metadata": {},
   "outputs": [
    {
     "data": {
      "text/plain": [
       "4"
      ]
     },
     "execution_count": 43,
     "metadata": {},
     "output_type": "execute_result"
    }
   ],
   "source": [
    "# What will round(3.75) return?\n",
    "# Ans:- 4\n",
    "a = (3.75)\n",
    "round(a)"
   ]
  },
  {
   "cell_type": "code",
   "execution_count": null,
   "id": "ed7e185a-b9c0-4e02-8b3d-92b8fd8667ea",
   "metadata": {},
   "outputs": [],
   "source": [
    "# What is the keyword used to define a function in Python?\n",
    "# Ans:- def()"
   ]
  }
 ],
 "metadata": {
  "kernelspec": {
   "display_name": "Python [conda env:base] *",
   "language": "python",
   "name": "conda-base-py"
  },
  "language_info": {
   "codemirror_mode": {
    "name": "ipython",
    "version": 3
   },
   "file_extension": ".py",
   "mimetype": "text/x-python",
   "name": "python",
   "nbconvert_exporter": "python",
   "pygments_lexer": "ipython3",
   "version": "3.12.7"
  }
 },
 "nbformat": 4,
 "nbformat_minor": 5
}
